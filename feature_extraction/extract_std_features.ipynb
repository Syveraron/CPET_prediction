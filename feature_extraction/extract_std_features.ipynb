{
 "cells": [
  {
   "cell_type": "code",
   "execution_count": 14,
   "metadata": {},
   "outputs": [
    {
     "name": "stdout",
     "output_type": "stream",
     "text": [
      "197\n"
     ]
    }
   ],
   "source": [
    "\n",
    "import pandas as pd\n",
    "import numpy as np\n",
    "import polars as pl\n",
    "import time\n",
    "import matplotlib.pyplot as plt\n",
    "from extraction_functions import *\n",
    "\n",
    "path = '../../../data'\n",
    "\n",
    "\n",
    "# Load the data\n",
    "df = pd.read_csv(f'{path}/sensors_data.csv')\n",
    "\n",
    "print(len(df))"
   ]
  },
  {
   "cell_type": "markdown",
   "metadata": {},
   "source": [
    "### Once file has been opened & imported we will extract the standard WS features first.\n",
    "### To compartmentalise the code, each cell focuses on one or multiple features within a domain rather than extracting all features from each participant \n",
    "### The code starts with step count features first:"
   ]
  },
  {
   "cell_type": "code",
   "execution_count": 16,
   "metadata": {},
   "outputs": [
    {
     "name": "stdout",
     "output_type": "stream",
     "text": [
      "Processing patient R001...\n",
      "Processing patient R002...\n",
      "Processing patient R003...\n",
      "Processing patient R004...\n",
      "Processing patient R005...\n",
      "Processing patient R006...\n",
      "Processing patient R007...\n",
      "Processing patient R008...\n",
      "Processing patient R009...\n"
     ]
    },
    {
     "name": "stderr",
     "output_type": "stream",
     "text": [
      "/var/folders/m9/nskhz35n09b2_r2sw4dg_kxm0000gn/T/ipykernel_37784/2220637406.py:82: FutureWarning: Setting an item of incompatible dtype is deprecated and will raise an error in a future version of pandas. Value '0.106811799607384' has dtype incompatible with int64, please explicitly cast to a compatible dtype first.\n",
      "  df.loc[index, 'Q1'] = Q1\n",
      "/var/folders/m9/nskhz35n09b2_r2sw4dg_kxm0000gn/T/ipykernel_37784/2220637406.py:85: FutureWarning: Setting an item of incompatible dtype is deprecated and will raise an error in a future version of pandas. Value '0.25862068965517243' has dtype incompatible with int64, please explicitly cast to a compatible dtype first.\n",
      "  df.loc[index, 'Q2'] = Q2\n",
      "/var/folders/m9/nskhz35n09b2_r2sw4dg_kxm0000gn/T/ipykernel_37784/2220637406.py:88: FutureWarning: Setting an item of incompatible dtype is deprecated and will raise an error in a future version of pandas. Value '0.7523084322562723' has dtype incompatible with int64, please explicitly cast to a compatible dtype first.\n",
      "  df.loc[index, 'Q3'] = Q3\n",
      "/var/folders/m9/nskhz35n09b2_r2sw4dg_kxm0000gn/T/ipykernel_37784/2220637406.py:91: FutureWarning: Setting an item of incompatible dtype is deprecated and will raise an error in a future version of pandas. Value '1.0484752891692954' has dtype incompatible with int64, please explicitly cast to a compatible dtype first.\n",
      "  df.loc[index, 'Q95'] = Q95\n"
     ]
    },
    {
     "name": "stdout",
     "output_type": "stream",
     "text": [
      "Processing patient R010...\n",
      "Processing patient R011...\n",
      "Processing patient R012...\n",
      "Processing patient R013...\n",
      "Processing patient R014...\n",
      "Processing patient R015...\n",
      "Processing patient R016...\n",
      "Processing patient R017...\n",
      "Processing patient R018...\n",
      "Processing patient R019...\n",
      "Processing patient R020...\n",
      "Processing patient R021...\n",
      "Processing patient R022...\n",
      "Processing patient R023...\n",
      "Processing patient R024...\n",
      "Processing patient R025...\n",
      "Processing patient R026...\n",
      "Processing patient R027...\n",
      "Processing patient R028...\n",
      "Processing patient R029...\n",
      "Processing patient R030...\n",
      "Processing patient R031...\n",
      "Processing patient R032...\n",
      "Processing patient R033...\n",
      "Processing patient R034...\n",
      "Processing patient R035...\n",
      "Processing patient R036...\n",
      "Processing patient R037...\n",
      "Processing patient R038...\n",
      "Processing patient R039...\n",
      "Processing patient R040...\n",
      "Processing patient R041...\n",
      "Processing patient R042...\n",
      "Processing patient R043...\n",
      "Processing patient R044...\n",
      "Processing patient R045...\n",
      "Processing patient R046...\n",
      "Processing patient R047...\n",
      "Processing patient R048...\n",
      "Processing patient R049...\n",
      "Processing patient R050...\n",
      "Processing patient R051...\n",
      "Processing patient R052...\n",
      "Processing patient R053...\n",
      "Processing patient R054...\n",
      "Processing patient R055...\n",
      "Processing patient R056...\n",
      "Processing patient R057...\n",
      "Processing patient R058...\n",
      "Processing patient R059...\n",
      "Processing patient R060...\n",
      "Processing patient R061...\n",
      "Processing patient R062...\n",
      "Processing patient R063...\n",
      "Processing patient R064...\n",
      "Processing patient R065...\n",
      "Processing patient R066...\n",
      "Processing patient R067...\n",
      "Processing patient R068...\n",
      "Processing patient R069...\n",
      "Processing patient R070...\n",
      "Processing patient R071...\n",
      "Processing patient R072...\n",
      "Processing patient R073...\n",
      "Processing patient R074...\n",
      "Processing patient R075...\n",
      "Processing patient R076...\n",
      "Processing patient R077...\n",
      "Processing patient R078...\n",
      "Processing patient R079...\n",
      "Processing patient R080...\n",
      "Processing patient R081...\n",
      "Processing patient R082...\n",
      "Processing patient R083...\n",
      "Processing patient R084...\n",
      "Processing patient R085...\n",
      "Processing patient R086...\n",
      "Processing patient R087...\n",
      "Processing patient R088...\n",
      "Processing patient R089...\n",
      "Processing patient R090...\n",
      "Processing patient R091...\n",
      "Processing patient R092...\n",
      "Processing patient R093...\n",
      "Processing patient R094...\n",
      "File not found for patient R094. Skipping.\n",
      "Processing patient R096...\n",
      "Processing patient R097...\n",
      "Processing patient R098...\n",
      "Processing patient R099...\n",
      "Processing patient R100...\n",
      "Processing patient R101...\n",
      "Processing patient R102...\n",
      "Processing patient R103...\n",
      "Processing patient R104...\n",
      "Processing patient R105...\n",
      "Processing patient R106...\n",
      "Processing patient R107...\n",
      "Processing patient R108...\n",
      "Processing patient R109...\n",
      "Processing patient R110...\n",
      "Processing patient R111...\n",
      "Processing patient R112...\n",
      "Processing patient R113...\n",
      "Processing patient R114...\n",
      "Processing patient R115...\n",
      "Processing patient R116...\n",
      "Processing patient R117...\n",
      "Processing patient R118...\n",
      "Processing patient R119...\n",
      "Processing patient R120...\n",
      "Processing patient R121...\n",
      "Processing patient R122...\n",
      "Processing patient R123...\n",
      "Processing patient R124...\n",
      "Processing patient R125...\n",
      "Processing patient R126...\n",
      "Processing patient R127...\n",
      "Processing patient R128...\n",
      "Processing patient R129...\n",
      "Processing patient R130...\n",
      "Processing patient R131...\n",
      "Processing patient R132...\n",
      "Processing patient R133...\n",
      "Processing patient R134...\n",
      "Processing patient R135...\n",
      "Processing patient R136...\n",
      "Processing patient R137...\n",
      "Processing patient R138...\n",
      "Processing patient R139...\n",
      "Processing patient R140...\n",
      "Processing patient R141...\n",
      "Processing patient R142...\n",
      "Processing patient R143...\n",
      "Processing patient R144...\n",
      "Processing patient R145...\n",
      "Processing patient R146...\n",
      "Processing patient R147...\n",
      "Processing patient R148...\n",
      "Processing patient R149...\n",
      "Processing patient R150...\n",
      "Processing patient R151...\n",
      "Processing patient R152...\n",
      "Processing patient R153...\n",
      "Processing patient R154...\n",
      "Processing patient R155...\n",
      "Processing patient R156...\n",
      "Processing patient R157...\n",
      "Processing patient R158...\n",
      "Processing patient R159...\n",
      "Processing patient R160...\n",
      "Processing patient R161...\n",
      "Processing patient R162...\n",
      "Processing patient R163...\n",
      "Processing patient R164...\n",
      "Processing patient R165...\n",
      "Processing patient R166...\n",
      "Processing patient R167...\n",
      "Processing patient R168...\n",
      "Processing patient R169...\n",
      "Processing patient R170...\n",
      "Processing patient R171...\n",
      "Processing patient R172...\n",
      "Processing patient R173...\n",
      "Processing patient R174...\n",
      "Processing patient R175...\n",
      "Processing patient R176...\n",
      "Processing patient R177...\n",
      "Processing patient R178...\n",
      "Processing patient R179...\n",
      "Processing patient R180...\n",
      "Processing patient R181...\n",
      "Processing patient R182...\n",
      "Processing patient R183...\n",
      "Processing patient R184...\n",
      "Processing patient R185...\n",
      "Processing patient R186...\n",
      "Processing patient R187...\n",
      "Processing patient R188...\n",
      "Processing patient R189...\n",
      "Processing patient R190...\n",
      "Processing patient R191...\n",
      "Processing patient R192...\n",
      "Processing patient R193...\n",
      "Processing patient R194...\n",
      "Processing patient R195...\n",
      "Processing patient R196...\n",
      "Processing patient R197...\n",
      "Processing patient R198...\n"
     ]
    }
   ],
   "source": [
    "#calculate the average number of daily steps by calculating total number of steps divided by the number of days in the analysis\n",
    "from datetime import datetime\n",
    "from extraction_functions import *\n",
    "\n",
    "\n",
    "#add an empty column to the dataframe to add values to it\n",
    "df['steps'] = np.nan \n",
    "df['MVPA steps'] = np.nan\n",
    "df['Q1'] = 0\n",
    "df['Q2'] = 0\n",
    "df['Q3'] = 0\n",
    "df['Q95'] = 0   \n",
    "\n",
    "\n",
    "# Loop over each patient file\n",
    "for index, row in df.iterrows():\n",
    "    patient_id = row['Patient ID']\n",
    "    print(f'Processing patient {patient_id}...')\n",
    "\n",
    "    # Extract numeric patient ID by stripping the 'R' prefix and removing leading zeros\n",
    "    numeric_patient_id = str(int(patient_id.lstrip('R')))\n",
    "\n",
    "    # Read the patient data\n",
    "    patient_file = f'{path}/steps/counts/{numeric_patient_id}_gait_hourly.csv'\n",
    "    \n",
    "    try:\n",
    "        df_patient = pd.read_csv(patient_file)\n",
    "    except FileNotFoundError:\n",
    "        print(f\"File not found for patient {patient_id}. Skipping.\")\n",
    "        df.at[index, 'steps'] = np.nan\n",
    "        continue  # Skip to the next iteration if file is missing\n",
    "\n",
    "    #get the value from the column 'good_wear_hrs' for this patient\n",
    "    good_wear_hrs = row['Hours of data collected']\n",
    "\n",
    "    #count the total number of steps in the steps column\n",
    "    total_steps = df_patient['steps'].sum()\n",
    "    days = good_wear_hrs/24\n",
    "    \n",
    "\n",
    "    #calculate the average number of steps per day\n",
    "    avg_steps_per_day = total_steps/days\n",
    "    df.at[index, 'steps'] = avg_steps_per_day\n",
    "\n",
    "\n",
    "    # Count rows with >= 100 steps to estimate MVPA steps\n",
    "    mvpa_rows = df_patient[df_patient['steps'] >= 100].shape[0]\n",
    "    avg_mvpa_per_day = mvpa_rows / days if mvpa_rows > 0 else 0\n",
    "    df.at[index, 'MVPA steps'] = avg_mvpa_per_day\n",
    "\n",
    "    #now calculate the Speed-HR ratio\n",
    "\n",
    "    #find the row with the first value in the column 'walking_time' and row with last value in that column\n",
    "    first_row = df_patient[df_patient['walking_time'].notnull()].index[0]\n",
    "    last_row = df_patient[df_patient['walking_time'].notnull()].index[-1]\n",
    "    df_patient = df_patient.iloc[first_row:last_row+1]\n",
    "\n",
    "    #open hr data for patient \n",
    "    hr_file = f'{path}/hr_values/{patient_id}.npy'\n",
    "    hr_data = np.load(hr_file)\n",
    "\n",
    "    hr_resampled = resample_hr_data(hr_data)\n",
    "\n",
    "    # Create DataFrame for resampled HR data\n",
    "    df_hr_resampled = pd.DataFrame({'hr': hr_resampled})\n",
    "\n",
    "    # Ensure length of hr data matches patient data length by taking only first values in hr that match the steps \n",
    "    df_hr_resampled = df_hr_resampled.iloc[:len(df_patient)].reset_index(drop=True)\n",
    "\n",
    "\n",
    "    # Combine the two dataframes\n",
    "    df_combined = pd.concat([df_patient.reset_index(drop=True), df_hr_resampled], axis=1)\n",
    "\n",
    "    # Calculate the ratio of steps to HR in df_combined\n",
    "    df_combined['ratio'] = df_combined['steps'] / df_combined['hr']\n",
    "\n",
    "    # Form a new DataFrame with only rows where steps > 0 and hr > 0\n",
    "    df_active = df_combined[(df_combined['steps'] > 0) & (df_combined['hr'] > 0)]\n",
    "\n",
    "    # Calculate the distribution of CHR ratios for active periods (steps > 50 and hr > 0)\n",
    "    Q1 = df_active['ratio'].quantile(0.25)\n",
    "    df.loc[index, 'Q1'] = Q1\n",
    "\n",
    "    Q2 = df_active['ratio'].median()  # 50th percentile\n",
    "    df.loc[index, 'Q2'] = Q2\n",
    "\n",
    "    Q3 = df_active['ratio'].quantile(0.75)\n",
    "    df.loc[index, 'Q3'] = Q3\n",
    "\n",
    "    Q95 = df_active['ratio'].quantile(0.95)\n",
    "    df.loc[index, 'Q95'] = Q95  \n",
    "\n",
    "\n",
    "\n"
   ]
  },
  {
   "cell_type": "markdown",
   "metadata": {},
   "source": [
    "### After step features have been extracted - now movement features will be extracted."
   ]
  },
  {
   "cell_type": "code",
   "execution_count": 18,
   "metadata": {},
   "outputs": [
    {
     "name": "stdout",
     "output_type": "stream",
     "text": [
      "starting_loop\n",
      "Starting patient R001\n",
      "Days: 3.0529879629629626\n",
      "Trimmed 1 values\n",
      "Resting HR during sleep:64.72551928783383\n",
      "Time in MVPA: 76.97377220312706\n",
      "Starting patient R002\n",
      "Days: 2.353447685185185\n"
     ]
    },
    {
     "name": "stderr",
     "output_type": "stream",
     "text": [
      "/Users/aronsyversen/Desktop/REMOTES/CPET-pred/src/feature_extraction/extraction_functions.py:235: UserWarning: Could not infer format, so each element will be parsed individually, falling back to `dateutil`. To ensure parsing is consistent and as-expected, please specify a format.\n",
      "  acc_df['time_cleaned'] = pd.to_datetime(acc_df['time'].str.split(\"[\").str[0])\n",
      "/Users/aronsyversen/Desktop/REMOTES/CPET-pred/src/feature_extraction/extraction_functions.py:235: UserWarning: Could not infer format, so each element will be parsed individually, falling back to `dateutil`. To ensure parsing is consistent and as-expected, please specify a format.\n",
      "  acc_df['time_cleaned'] = pd.to_datetime(acc_df['time'].str.split(\"[\").str[0])\n"
     ]
    },
    {
     "name": "stdout",
     "output_type": "stream",
     "text": [
      "Trimmed 1 values\n",
      "Resting HR during sleep:72.11278586278586\n",
      "Time in MVPA: 5.523810910195385\n",
      "Starting patient R003\n",
      "Days: 3.429448611111111\n",
      "Trimmed 1 values\n",
      "Resting HR during sleep:101.82392131979695\n",
      "Time in MVPA: 21.577812759825743\n",
      "Starting patient R004\n",
      "Days: 2.1227560185185186\n",
      "Trimmed 1 values\n"
     ]
    },
    {
     "name": "stderr",
     "output_type": "stream",
     "text": [
      "/Users/aronsyversen/Desktop/REMOTES/CPET-pred/src/feature_extraction/extraction_functions.py:235: UserWarning: Could not infer format, so each element will be parsed individually, falling back to `dateutil`. To ensure parsing is consistent and as-expected, please specify a format.\n",
      "  acc_df['time_cleaned'] = pd.to_datetime(acc_df['time'].str.split(\"[\").str[0])\n",
      "/Users/aronsyversen/Desktop/REMOTES/CPET-pred/src/feature_extraction/extraction_functions.py:235: UserWarning: Could not infer format, so each element will be parsed individually, falling back to `dateutil`. To ensure parsing is consistent and as-expected, please specify a format.\n",
      "  acc_df['time_cleaned'] = pd.to_datetime(acc_df['time'].str.split(\"[\").str[0])\n",
      "/Users/aronsyversen/Desktop/REMOTES/CPET-pred/src/feature_extraction/extraction_functions.py:235: UserWarning: Could not infer format, so each element will be parsed individually, falling back to `dateutil`. To ensure parsing is consistent and as-expected, please specify a format.\n",
      "  acc_df['time_cleaned'] = pd.to_datetime(acc_df['time'].str.split(\"[\").str[0])\n"
     ]
    },
    {
     "name": "stdout",
     "output_type": "stream",
     "text": [
      "Resting HR during sleep:76.54208542713567\n",
      "Time in MVPA: 95.63039663016697\n",
      "Starting patient R005\n",
      "Days: 1.7165472222222224\n",
      "Trimmed 1 values\n",
      "Resting HR during sleep:73.64935064935065\n",
      "Time in MVPA: 15.729249769805987\n",
      "Starting patient R006\n",
      "Days: 2.998518518518518\n",
      "Trimmed 1 values\n",
      "Resting HR during sleep:75.63511611541168\n",
      "Time in MVPA: 2.834733201581028\n",
      "Starting patient R007\n",
      "Days: 3.010323148148148\n"
     ]
    },
    {
     "name": "stderr",
     "output_type": "stream",
     "text": [
      "/Users/aronsyversen/Desktop/REMOTES/CPET-pred/src/feature_extraction/extraction_functions.py:235: UserWarning: Could not infer format, so each element will be parsed individually, falling back to `dateutil`. To ensure parsing is consistent and as-expected, please specify a format.\n",
      "  acc_df['time_cleaned'] = pd.to_datetime(acc_df['time'].str.split(\"[\").str[0])\n",
      "/Users/aronsyversen/Desktop/REMOTES/CPET-pred/src/feature_extraction/extraction_functions.py:235: UserWarning: Could not infer format, so each element will be parsed individually, falling back to `dateutil`. To ensure parsing is consistent and as-expected, please specify a format.\n",
      "  acc_df['time_cleaned'] = pd.to_datetime(acc_df['time'].str.split(\"[\").str[0])\n",
      "/Users/aronsyversen/Desktop/REMOTES/CPET-pred/src/feature_extraction/extraction_functions.py:235: UserWarning: Could not infer format, so each element will be parsed individually, falling back to `dateutil`. To ensure parsing is consistent and as-expected, please specify a format.\n",
      "  acc_df['time_cleaned'] = pd.to_datetime(acc_df['time'].str.split(\"[\").str[0])\n"
     ]
    },
    {
     "name": "stdout",
     "output_type": "stream",
     "text": [
      "Trimmed 1 values\n",
      "Resting HR during sleep:74.70145631067962\n",
      "Time in MVPA: 4.81675862902623\n",
      "Starting patient R008\n",
      "Days: 2.6573375\n",
      "Resting HR during sleep:69.8644366197183\n",
      "Time in MVPA: 26.906631167474963\n",
      "Starting patient R009\n",
      "Days: 2.7140268518518513\n",
      "Trimmed 1 values\n",
      "Resting HR during sleep:71.46153846153847\n",
      "Time in MVPA: 23.765424412065034\n",
      "Starting patient R010\n",
      "Days: 1.9638481481481478\n"
     ]
    },
    {
     "name": "stderr",
     "output_type": "stream",
     "text": [
      "/Users/aronsyversen/Desktop/REMOTES/CPET-pred/src/feature_extraction/extraction_functions.py:235: UserWarning: Could not infer format, so each element will be parsed individually, falling back to `dateutil`. To ensure parsing is consistent and as-expected, please specify a format.\n",
      "  acc_df['time_cleaned'] = pd.to_datetime(acc_df['time'].str.split(\"[\").str[0])\n",
      "/Users/aronsyversen/Desktop/REMOTES/CPET-pred/src/feature_extraction/extraction_functions.py:235: UserWarning: Could not infer format, so each element will be parsed individually, falling back to `dateutil`. To ensure parsing is consistent and as-expected, please specify a format.\n",
      "  acc_df['time_cleaned'] = pd.to_datetime(acc_df['time'].str.split(\"[\").str[0])\n",
      "/Users/aronsyversen/Desktop/REMOTES/CPET-pred/src/feature_extraction/extraction_functions.py:235: UserWarning: Could not infer format, so each element will be parsed individually, falling back to `dateutil`. To ensure parsing is consistent and as-expected, please specify a format.\n",
      "  acc_df['time_cleaned'] = pd.to_datetime(acc_df['time'].str.split(\"[\").str[0])\n",
      "/Users/aronsyversen/Desktop/REMOTES/CPET-pred/src/feature_extraction/extraction_functions.py:235: UserWarning: Could not infer format, so each element will be parsed individually, falling back to `dateutil`. To ensure parsing is consistent and as-expected, please specify a format.\n",
      "  acc_df['time_cleaned'] = pd.to_datetime(acc_df['time'].str.split(\"[\").str[0])\n"
     ]
    },
    {
     "name": "stdout",
     "output_type": "stream",
     "text": [
      "Trimmed 1 values\n",
      "Resting HR during sleep:72.87751855779428\n",
      "Time in MVPA: 26.22402350638109\n",
      "Starting patient R011\n",
      "Days: 3.0103009259259257\n",
      "Trimmed 1 values\n",
      "Resting HR during sleep:80.55180840664711\n",
      "Time in MVPA: 10.796262832096582\n",
      "Starting patient R012\n",
      "Days: 1.825185185185185\n",
      "Trimmed 1 values\n",
      "Resting HR during sleep:71.75055309734513\n",
      "Time in MVPA: 0.0\n",
      "Starting patient R013\n",
      "Days: 2.9984689814814813\n",
      "Trimmed 1 values\n"
     ]
    },
    {
     "name": "stderr",
     "output_type": "stream",
     "text": [
      "/Users/aronsyversen/Desktop/REMOTES/CPET-pred/src/feature_extraction/extraction_functions.py:235: UserWarning: Could not infer format, so each element will be parsed individually, falling back to `dateutil`. To ensure parsing is consistent and as-expected, please specify a format.\n",
      "  acc_df['time_cleaned'] = pd.to_datetime(acc_df['time'].str.split(\"[\").str[0])\n",
      "/Users/aronsyversen/Desktop/REMOTES/CPET-pred/src/feature_extraction/extraction_functions.py:235: UserWarning: Could not infer format, so each element will be parsed individually, falling back to `dateutil`. To ensure parsing is consistent and as-expected, please specify a format.\n",
      "  acc_df['time_cleaned'] = pd.to_datetime(acc_df['time'].str.split(\"[\").str[0])\n"
     ]
    },
    {
     "name": "stdout",
     "output_type": "stream",
     "text": [
      "Resting HR during sleep:62.42632759910247\n",
      "Time in MVPA: 14.67415546792167\n",
      "Starting patient R014\n",
      "Days: 2.085661111111111\n",
      "Trimmed 1 values\n",
      "Resting HR during sleep:57.4369310793238\n",
      "Time in MVPA: 2.397321392897003\n",
      "Starting patient R015\n",
      "Days: 1.7232314814814815\n",
      "Trimmed 1 values\n"
     ]
    },
    {
     "name": "stderr",
     "output_type": "stream",
     "text": [
      "/Users/aronsyversen/Desktop/REMOTES/CPET-pred/src/feature_extraction/extraction_functions.py:235: UserWarning: Could not infer format, so each element will be parsed individually, falling back to `dateutil`. To ensure parsing is consistent and as-expected, please specify a format.\n",
      "  acc_df['time_cleaned'] = pd.to_datetime(acc_df['time'].str.split(\"[\").str[0])\n",
      "/Users/aronsyversen/Desktop/REMOTES/CPET-pred/src/feature_extraction/extraction_functions.py:235: UserWarning: Could not infer format, so each element will be parsed individually, falling back to `dateutil`. To ensure parsing is consistent and as-expected, please specify a format.\n",
      "  acc_df['time_cleaned'] = pd.to_datetime(acc_df['time'].str.split(\"[\").str[0])\n",
      "/Users/aronsyversen/Desktop/REMOTES/CPET-pred/src/feature_extraction/extraction_functions.py:235: UserWarning: Could not infer format, so each element will be parsed individually, falling back to `dateutil`. To ensure parsing is consistent and as-expected, please specify a format.\n",
      "  acc_df['time_cleaned'] = pd.to_datetime(acc_df['time'].str.split(\"[\").str[0])\n",
      "/Users/aronsyversen/Desktop/REMOTES/CPET-pred/src/feature_extraction/extraction_functions.py:235: UserWarning: Could not infer format, so each element will be parsed individually, falling back to `dateutil`. To ensure parsing is consistent and as-expected, please specify a format.\n",
      "  acc_df['time_cleaned'] = pd.to_datetime(acc_df['time'].str.split(\"[\").str[0])\n"
     ]
    },
    {
     "name": "stdout",
     "output_type": "stream",
     "text": [
      "Resting HR during sleep:93.72128378378379\n",
      "Time in MVPA: 29.59555959142223\n",
      "Starting patient R016\n",
      "Days: 2.9596768518518517\n",
      "Trimmed 1 values\n",
      "Resting HR during sleep:72.58491895701198\n",
      "Time in MVPA: 16.724798847221496\n",
      "Starting patient R017\n",
      "Days: 2.998472222222222\n",
      "Trimmed 1 values\n",
      "Resting HR during sleep:77.67150063051703\n",
      "Time in MVPA: 10.171846773820002\n",
      "Starting patient R018\n",
      "Days: 0.6954194444444446\n",
      "Trimmed 1 values\n",
      "Resting HR during sleep:77.66716417910447\n",
      "Time in MVPA: 11.503848596570412\n",
      "Starting patient R019\n",
      "Days: 3.019851851851852\n",
      "Trimmed 1 values\n",
      "Resting HR during sleep:67.46216848673947\n",
      "Time in MVPA: 0.0\n",
      "Starting patient R020\n",
      "Days: 3.0103597222222223\n",
      "Trimmed 1 values\n",
      "Resting HR during sleep:73.59375\n",
      "Time in MVPA: 5.481072537012234\n",
      "Starting patient R021\n",
      "Days: 2.796944444444445\n",
      "Trimmed 1 values\n",
      "Resting HR during sleep:65.70130399348004\n",
      "Time in MVPA: 3.575330221471843\n",
      "Starting patient R022\n",
      "Days: 2.9254041666666666\n",
      "Trimmed 1 values\n"
     ]
    },
    {
     "name": "stderr",
     "output_type": "stream",
     "text": [
      "/Users/aronsyversen/Desktop/REMOTES/CPET-pred/src/feature_extraction/extraction_functions.py:235: UserWarning: Could not infer format, so each element will be parsed individually, falling back to `dateutil`. To ensure parsing is consistent and as-expected, please specify a format.\n",
      "  acc_df['time_cleaned'] = pd.to_datetime(acc_df['time'].str.split(\"[\").str[0])\n",
      "/Users/aronsyversen/Desktop/REMOTES/CPET-pred/src/feature_extraction/extraction_functions.py:235: UserWarning: Could not infer format, so each element will be parsed individually, falling back to `dateutil`. To ensure parsing is consistent and as-expected, please specify a format.\n",
      "  acc_df['time_cleaned'] = pd.to_datetime(acc_df['time'].str.split(\"[\").str[0])\n",
      "/Users/aronsyversen/Desktop/REMOTES/CPET-pred/src/feature_extraction/extraction_functions.py:235: UserWarning: Could not infer format, so each element will be parsed individually, falling back to `dateutil`. To ensure parsing is consistent and as-expected, please specify a format.\n",
      "  acc_df['time_cleaned'] = pd.to_datetime(acc_df['time'].str.split(\"[\").str[0])\n",
      "/Users/aronsyversen/Desktop/REMOTES/CPET-pred/src/feature_extraction/extraction_functions.py:235: UserWarning: Could not infer format, so each element will be parsed individually, falling back to `dateutil`. To ensure parsing is consistent and as-expected, please specify a format.\n",
      "  acc_df['time_cleaned'] = pd.to_datetime(acc_df['time'].str.split(\"[\").str[0])\n"
     ]
    },
    {
     "name": "stdout",
     "output_type": "stream",
     "text": [
      "Resting HR during sleep:64.78398058252426\n",
      "Time in MVPA: 52.98413182224109\n",
      "Starting patient R023\n",
      "Days: 3.057777777777778\n",
      "Trimmed 1 values\n",
      "Resting HR during sleep:82.66805555555555\n",
      "Time in MVPA: 7.848837209302325\n",
      "Starting patient R024\n",
      "Days: 2.281086111111111\n",
      "Trimmed 1 values\n",
      "Resting HR during sleep:70.97319347319348\n",
      "Time in MVPA: 0.0\n",
      "Starting patient R025\n",
      "Days: 0.5416842592592596\n",
      "No resting HR found\n",
      "Time in MVPA: 78.45899022083039\n",
      "Starting patient R026\n",
      "Days: 2.6704412037037035\n"
     ]
    },
    {
     "name": "stderr",
     "output_type": "stream",
     "text": [
      "/Users/aronsyversen/Desktop/REMOTES/CPET-pred/src/feature_extraction/extraction_functions.py:235: UserWarning: Could not infer format, so each element will be parsed individually, falling back to `dateutil`. To ensure parsing is consistent and as-expected, please specify a format.\n",
      "  acc_df['time_cleaned'] = pd.to_datetime(acc_df['time'].str.split(\"[\").str[0])\n",
      "/Users/aronsyversen/Desktop/REMOTES/CPET-pred/src/feature_extraction/extraction_functions.py:235: UserWarning: Could not infer format, so each element will be parsed individually, falling back to `dateutil`. To ensure parsing is consistent and as-expected, please specify a format.\n",
      "  acc_df['time_cleaned'] = pd.to_datetime(acc_df['time'].str.split(\"[\").str[0])\n",
      "/Users/aronsyversen/Desktop/REMOTES/CPET-pred/src/feature_extraction/extraction_functions.py:235: UserWarning: Could not infer format, so each element will be parsed individually, falling back to `dateutil`. To ensure parsing is consistent and as-expected, please specify a format.\n",
      "  acc_df['time_cleaned'] = pd.to_datetime(acc_df['time'].str.split(\"[\").str[0])\n",
      "/Users/aronsyversen/Desktop/REMOTES/CPET-pred/src/feature_extraction/extraction_functions.py:235: UserWarning: Could not infer format, so each element will be parsed individually, falling back to `dateutil`. To ensure parsing is consistent and as-expected, please specify a format.\n",
      "  acc_df['time_cleaned'] = pd.to_datetime(acc_df['time'].str.split(\"[\").str[0])\n",
      "/Users/aronsyversen/Desktop/REMOTES/CPET-pred/src/feature_extraction/extraction_functions.py:235: UserWarning: Could not infer format, so each element will be parsed individually, falling back to `dateutil`. To ensure parsing is consistent and as-expected, please specify a format.\n",
      "  acc_df['time_cleaned'] = pd.to_datetime(acc_df['time'].str.split(\"[\").str[0])\n"
     ]
    },
    {
     "name": "stdout",
     "output_type": "stream",
     "text": [
      "Trimmed 1 values\n",
      "Resting HR during sleep:87.09397810218978\n",
      "Time in MVPA: 9.548983877508105\n",
      "Starting patient R027\n",
      "Days: 1.0323976851851853\n",
      "Trimmed 1 values\n",
      "No resting HR found\n",
      "Time in MVPA: 43.587854414772515\n",
      "Starting patient R028\n",
      "Days: 3.9585152777777783\n",
      "Trimmed 1 values\n",
      "Resting HR during sleep:66.65341578327444\n",
      "Time in MVPA: 26.77771653302953\n",
      "Starting patient R029\n",
      "Days: 3.034074074074074\n"
     ]
    },
    {
     "name": "stderr",
     "output_type": "stream",
     "text": [
      "/Users/aronsyversen/Desktop/REMOTES/CPET-pred/src/feature_extraction/extraction_functions.py:235: UserWarning: Could not infer format, so each element will be parsed individually, falling back to `dateutil`. To ensure parsing is consistent and as-expected, please specify a format.\n",
      "  acc_df['time_cleaned'] = pd.to_datetime(acc_df['time'].str.split(\"[\").str[0])\n",
      "/Users/aronsyversen/Desktop/REMOTES/CPET-pred/src/feature_extraction/extraction_functions.py:235: UserWarning: Could not infer format, so each element will be parsed individually, falling back to `dateutil`. To ensure parsing is consistent and as-expected, please specify a format.\n",
      "  acc_df['time_cleaned'] = pd.to_datetime(acc_df['time'].str.split(\"[\").str[0])\n",
      "/Users/aronsyversen/Desktop/REMOTES/CPET-pred/src/feature_extraction/extraction_functions.py:235: UserWarning: Could not infer format, so each element will be parsed individually, falling back to `dateutil`. To ensure parsing is consistent and as-expected, please specify a format.\n",
      "  acc_df['time_cleaned'] = pd.to_datetime(acc_df['time'].str.split(\"[\").str[0])\n"
     ]
    },
    {
     "name": "stdout",
     "output_type": "stream",
     "text": [
      "Resting HR during sleep:67.64653902798233\n",
      "Time in MVPA: 33.123779296875\n",
      "Starting patient R030\n",
      "Days: 2.998518518518518\n",
      "Trimmed 1 values\n",
      "Resting HR during sleep:73.87176724137932\n",
      "Time in MVPA: 15.841156126482215\n",
      "Starting patient R031\n",
      "Days: 3.0103671296296297\n",
      "Trimmed 1 values\n",
      "Resting HR during sleep:72.97430555555556\n",
      "Time in MVPA: 0.0\n",
      "Starting patient R032\n",
      "Days: 3.0103703703703704\n"
     ]
    },
    {
     "name": "stderr",
     "output_type": "stream",
     "text": [
      "/Users/aronsyversen/Desktop/REMOTES/CPET-pred/src/feature_extraction/extraction_functions.py:235: UserWarning: Could not infer format, so each element will be parsed individually, falling back to `dateutil`. To ensure parsing is consistent and as-expected, please specify a format.\n",
      "  acc_df['time_cleaned'] = pd.to_datetime(acc_df['time'].str.split(\"[\").str[0])\n",
      "/Users/aronsyversen/Desktop/REMOTES/CPET-pred/src/feature_extraction/extraction_functions.py:235: UserWarning: Could not infer format, so each element will be parsed individually, falling back to `dateutil`. To ensure parsing is consistent and as-expected, please specify a format.\n",
      "  acc_df['time_cleaned'] = pd.to_datetime(acc_df['time'].str.split(\"[\").str[0])\n"
     ]
    },
    {
     "name": "stdout",
     "output_type": "stream",
     "text": [
      "Trimmed 1 values\n",
      "Resting HR during sleep:66.00515021459228\n",
      "Time in MVPA: 49.16338582677165\n",
      "Starting patient R033\n",
      "Days: 3.022222222222222\n",
      "Trimmed 1 values\n",
      "Resting HR during sleep:72.4704502814259\n",
      "Time in MVPA: 1.4889705882352942\n",
      "Starting patient R034\n",
      "Days: 2.9272967592592587\n",
      "Trimmed 1 values\n"
     ]
    },
    {
     "name": "stderr",
     "output_type": "stream",
     "text": [
      "/Users/aronsyversen/Desktop/REMOTES/CPET-pred/src/feature_extraction/extraction_functions.py:235: UserWarning: Could not infer format, so each element will be parsed individually, falling back to `dateutil`. To ensure parsing is consistent and as-expected, please specify a format.\n",
      "  acc_df['time_cleaned'] = pd.to_datetime(acc_df['time'].str.split(\"[\").str[0])\n",
      "/Users/aronsyversen/Desktop/REMOTES/CPET-pred/src/feature_extraction/extraction_functions.py:235: UserWarning: Could not infer format, so each element will be parsed individually, falling back to `dateutil`. To ensure parsing is consistent and as-expected, please specify a format.\n",
      "  acc_df['time_cleaned'] = pd.to_datetime(acc_df['time'].str.split(\"[\").str[0])\n",
      "/Users/aronsyversen/Desktop/REMOTES/CPET-pred/src/feature_extraction/extraction_functions.py:235: UserWarning: Could not infer format, so each element will be parsed individually, falling back to `dateutil`. To ensure parsing is consistent and as-expected, please specify a format.\n",
      "  acc_df['time_cleaned'] = pd.to_datetime(acc_df['time'].str.split(\"[\").str[0])\n"
     ]
    },
    {
     "name": "stdout",
     "output_type": "stream",
     "text": [
      "Resting HR during sleep:77.84527518172378\n",
      "Time in MVPA: 73.61740804664146\n",
      "Starting patient R035\n",
      "Days: 2.796990740740741\n",
      "Trimmed 1 values\n",
      "Resting HR during sleep:59.77121771217712\n",
      "Time in MVPA: 0.0\n",
      "Starting patient R036\n",
      "Days: 3.0340708333333333\n",
      "Resting HR during sleep:66.57667525773196\n",
      "Time in MVPA: 29.498322523232677\n"
     ]
    },
    {
     "name": "stderr",
     "output_type": "stream",
     "text": [
      "/Users/aronsyversen/Desktop/REMOTES/CPET-pred/src/feature_extraction/extraction_functions.py:235: UserWarning: Could not infer format, so each element will be parsed individually, falling back to `dateutil`. To ensure parsing is consistent and as-expected, please specify a format.\n",
      "  acc_df['time_cleaned'] = pd.to_datetime(acc_df['time'].str.split(\"[\").str[0])\n",
      "/Users/aronsyversen/Desktop/REMOTES/CPET-pred/src/feature_extraction/extraction_functions.py:235: UserWarning: Could not infer format, so each element will be parsed individually, falling back to `dateutil`. To ensure parsing is consistent and as-expected, please specify a format.\n",
      "  acc_df['time_cleaned'] = pd.to_datetime(acc_df['time'].str.split(\"[\").str[0])\n"
     ]
    },
    {
     "name": "stdout",
     "output_type": "stream",
     "text": [
      "Starting patient R037\n",
      "Days: 2.9985152777777775\n",
      "Trimmed 1 values\n",
      "Resting HR during sleep:72.03745173745173\n",
      "Time in MVPA: 10.838697485005312\n",
      "Starting patient R038\n",
      "Days: 3.010185185185185\n",
      "Trimmed 1 values\n"
     ]
    },
    {
     "name": "stderr",
     "output_type": "stream",
     "text": [
      "/Users/aronsyversen/Desktop/REMOTES/CPET-pred/src/feature_extraction/extraction_functions.py:235: UserWarning: Could not infer format, so each element will be parsed individually, falling back to `dateutil`. To ensure parsing is consistent and as-expected, please specify a format.\n",
      "  acc_df['time_cleaned'] = pd.to_datetime(acc_df['time'].str.split(\"[\").str[0])\n",
      "/Users/aronsyversen/Desktop/REMOTES/CPET-pred/src/feature_extraction/extraction_functions.py:235: UserWarning: Could not infer format, so each element will be parsed individually, falling back to `dateutil`. To ensure parsing is consistent and as-expected, please specify a format.\n",
      "  acc_df['time_cleaned'] = pd.to_datetime(acc_df['time'].str.split(\"[\").str[0])\n",
      "/Users/aronsyversen/Desktop/REMOTES/CPET-pred/src/feature_extraction/extraction_functions.py:235: UserWarning: Could not infer format, so each element will be parsed individually, falling back to `dateutil`. To ensure parsing is consistent and as-expected, please specify a format.\n",
      "  acc_df['time_cleaned'] = pd.to_datetime(acc_df['time'].str.split(\"[\").str[0])\n"
     ]
    },
    {
     "name": "stdout",
     "output_type": "stream",
     "text": [
      "Resting HR during sleep:78.301872074883\n",
      "Time in MVPA: 0.0\n",
      "Starting patient R039\n",
      "Days: 3.6967097222222223\n",
      "Trimmed 1 values\n",
      "Resting HR during sleep:80.15587151132175\n",
      "Time in MVPA: 15.554372488147305\n",
      "Starting patient R040\n",
      "Days: 3.354074074074074\n",
      "Trimmed 1 values\n",
      "Resting HR during sleep:88.05464824120602\n",
      "Time in MVPA: 4.174028268551236\n",
      "Starting patient R041\n",
      "Days: 2.7496296296296294\n",
      "Trimmed 1 values\n",
      "Resting HR during sleep:71.93385373870173\n",
      "Time in MVPA: 27.45824353448276\n",
      "Starting patient R042\n",
      "Days: 3.9466666666666668\n",
      "Trimmed 1 values\n"
     ]
    },
    {
     "name": "stderr",
     "output_type": "stream",
     "text": [
      "/Users/aronsyversen/Desktop/REMOTES/CPET-pred/src/feature_extraction/extraction_functions.py:235: UserWarning: Could not infer format, so each element will be parsed individually, falling back to `dateutil`. To ensure parsing is consistent and as-expected, please specify a format.\n",
      "  acc_df['time_cleaned'] = pd.to_datetime(acc_df['time'].str.split(\"[\").str[0])\n",
      "/Users/aronsyversen/Desktop/REMOTES/CPET-pred/src/feature_extraction/extraction_functions.py:235: UserWarning: Could not infer format, so each element will be parsed individually, falling back to `dateutil`. To ensure parsing is consistent and as-expected, please specify a format.\n",
      "  acc_df['time_cleaned'] = pd.to_datetime(acc_df['time'].str.split(\"[\").str[0])\n",
      "/Users/aronsyversen/Desktop/REMOTES/CPET-pred/src/feature_extraction/extraction_functions.py:235: UserWarning: Could not infer format, so each element will be parsed individually, falling back to `dateutil`. To ensure parsing is consistent and as-expected, please specify a format.\n",
      "  acc_df['time_cleaned'] = pd.to_datetime(acc_df['time'].str.split(\"[\").str[0])\n"
     ]
    },
    {
     "name": "stdout",
     "output_type": "stream",
     "text": [
      "Resting HR during sleep:73.47368421052632\n",
      "Time in MVPA: 2.2804054054054053\n",
      "Starting patient R043\n",
      "Days: 2.9985152777777775\n",
      "Trimmed 1 values\n",
      "Resting HR during sleep:73.75348675034867\n",
      "Time in MVPA: 133.39935366160384\n",
      "Starting patient R044\n",
      "Days: 2.9983624999999994\n",
      "Trimmed 1 values\n"
     ]
    },
    {
     "name": "stderr",
     "output_type": "stream",
     "text": [
      "/Users/aronsyversen/Desktop/REMOTES/CPET-pred/src/feature_extraction/extraction_functions.py:235: UserWarning: Could not infer format, so each element will be parsed individually, falling back to `dateutil`. To ensure parsing is consistent and as-expected, please specify a format.\n",
      "  acc_df['time_cleaned'] = pd.to_datetime(acc_df['time'].str.split(\"[\").str[0])\n",
      "/Users/aronsyversen/Desktop/REMOTES/CPET-pred/src/feature_extraction/extraction_functions.py:235: UserWarning: Could not infer format, so each element will be parsed individually, falling back to `dateutil`. To ensure parsing is consistent and as-expected, please specify a format.\n",
      "  acc_df['time_cleaned'] = pd.to_datetime(acc_df['time'].str.split(\"[\").str[0])\n",
      "/Users/aronsyversen/Desktop/REMOTES/CPET-pred/src/feature_extraction/extraction_functions.py:235: UserWarning: Could not infer format, so each element will be parsed individually, falling back to `dateutil`. To ensure parsing is consistent and as-expected, please specify a format.\n",
      "  acc_df['time_cleaned'] = pd.to_datetime(acc_df['time'].str.split(\"[\").str[0])\n"
     ]
    },
    {
     "name": "stdout",
     "output_type": "stream",
     "text": [
      "Resting HR during sleep:67.54367575122292\n",
      "Time in MVPA: 22.17877258003327\n",
      "Starting patient R045\n",
      "Days: 2.9985120370370364\n",
      "Trimmed 1 values\n",
      "Resting HR during sleep:86.07363253856943\n",
      "Time in MVPA: 14.006947272922098\n",
      "Starting patient R046\n",
      "Days: 2.3109444444444445\n",
      "Trimmed 1 values\n",
      "Resting HR during sleep:60.09913169319827\n",
      "Time in MVPA: 106.23362261701566\n",
      "Starting patient R047\n",
      "Days: 3.0103703703703704\n",
      "Trimmed 1 values\n",
      "Resting HR during sleep:86.01994091580502\n",
      "Time in MVPA: 0.0\n",
      "Starting patient R048\n",
      "Days: 3.0103703703703704\n",
      "Trimmed 1 values\n",
      "Resting HR during sleep:59.577949438202246\n",
      "Time in MVPA: 17.77189960629921\n",
      "Starting patient R049\n",
      "Days: 1.7559134259259261\n",
      "Trimmed 1 values\n"
     ]
    },
    {
     "name": "stderr",
     "output_type": "stream",
     "text": [
      "/Users/aronsyversen/Desktop/REMOTES/CPET-pred/src/feature_extraction/extraction_functions.py:235: UserWarning: Could not infer format, so each element will be parsed individually, falling back to `dateutil`. To ensure parsing is consistent and as-expected, please specify a format.\n",
      "  acc_df['time_cleaned'] = pd.to_datetime(acc_df['time'].str.split(\"[\").str[0])\n",
      "/Users/aronsyversen/Desktop/REMOTES/CPET-pred/src/feature_extraction/extraction_functions.py:235: UserWarning: Could not infer format, so each element will be parsed individually, falling back to `dateutil`. To ensure parsing is consistent and as-expected, please specify a format.\n",
      "  acc_df['time_cleaned'] = pd.to_datetime(acc_df['time'].str.split(\"[\").str[0])\n",
      "/Users/aronsyversen/Desktop/REMOTES/CPET-pred/src/feature_extraction/extraction_functions.py:235: UserWarning: Could not infer format, so each element will be parsed individually, falling back to `dateutil`. To ensure parsing is consistent and as-expected, please specify a format.\n",
      "  acc_df['time_cleaned'] = pd.to_datetime(acc_df['time'].str.split(\"[\").str[0])\n"
     ]
    },
    {
     "name": "stdout",
     "output_type": "stream",
     "text": [
      "Resting HR during sleep:80.22800495662949\n",
      "Time in MVPA: 3.417024957728817\n",
      "Starting patient R050\n",
      "Days: 2.6903703703703705\n",
      "Resting HR during sleep:68.18549127640037\n",
      "Time in MVPA: 24.90363436123348\n",
      "Starting patient R051\n",
      "Days: 2.968058796296296\n",
      "Trimmed 1 values\n"
     ]
    },
    {
     "name": "stderr",
     "output_type": "stream",
     "text": [
      "/Users/aronsyversen/Desktop/REMOTES/CPET-pred/src/feature_extraction/extraction_functions.py:235: UserWarning: Could not infer format, so each element will be parsed individually, falling back to `dateutil`. To ensure parsing is consistent and as-expected, please specify a format.\n",
      "  acc_df['time_cleaned'] = pd.to_datetime(acc_df['time'].str.split(\"[\").str[0])\n",
      "/Users/aronsyversen/Desktop/REMOTES/CPET-pred/src/feature_extraction/extraction_functions.py:235: UserWarning: Could not infer format, so each element will be parsed individually, falling back to `dateutil`. To ensure parsing is consistent and as-expected, please specify a format.\n",
      "  acc_df['time_cleaned'] = pd.to_datetime(acc_df['time'].str.split(\"[\").str[0])\n",
      "/Users/aronsyversen/Desktop/REMOTES/CPET-pred/src/feature_extraction/extraction_functions.py:235: UserWarning: Could not infer format, so each element will be parsed individually, falling back to `dateutil`. To ensure parsing is consistent and as-expected, please specify a format.\n",
      "  acc_df['time_cleaned'] = pd.to_datetime(acc_df['time'].str.split(\"[\").str[0])\n"
     ]
    },
    {
     "name": "stdout",
     "output_type": "stream",
     "text": [
      "Resting HR during sleep:69.09412176347095\n",
      "Time in MVPA: 10.612997302919807\n",
      "Starting patient R052\n",
      "Days: 2.903118518518518\n",
      "Trimmed 1 values\n",
      "Resting HR during sleep:71.90615690168818\n",
      "Time in MVPA: 16.53394434082379\n",
      "Starting patient R053\n",
      "Days: 3.010363425925926\n",
      "Trimmed 1 values\n",
      "Resting HR during sleep:81.61607761607762\n",
      "Time in MVPA: 0.0\n",
      "Starting patient R054\n",
      "Days: 3.0102745370370365\n"
     ]
    },
    {
     "name": "stderr",
     "output_type": "stream",
     "text": [
      "/Users/aronsyversen/Desktop/REMOTES/CPET-pred/src/feature_extraction/extraction_functions.py:235: UserWarning: Could not infer format, so each element will be parsed individually, falling back to `dateutil`. To ensure parsing is consistent and as-expected, please specify a format.\n",
      "  acc_df['time_cleaned'] = pd.to_datetime(acc_df['time'].str.split(\"[\").str[0])\n",
      "/Users/aronsyversen/Desktop/REMOTES/CPET-pred/src/feature_extraction/extraction_functions.py:235: UserWarning: Could not infer format, so each element will be parsed individually, falling back to `dateutil`. To ensure parsing is consistent and as-expected, please specify a format.\n",
      "  acc_df['time_cleaned'] = pd.to_datetime(acc_df['time'].str.split(\"[\").str[0])\n"
     ]
    },
    {
     "name": "stdout",
     "output_type": "stream",
     "text": [
      "Trimmed 1 values\n",
      "Resting HR during sleep:78.35920177383592\n",
      "Time in MVPA: 6.976107906978462\n",
      "Starting patient R055\n",
      "Days: 3.010363888888889\n",
      "Trimmed 1 values\n",
      "Resting HR during sleep:75.46121593291404\n",
      "Time in MVPA: 0.0\n",
      "Starting patient R056\n",
      "Days: 3.188148148148148\n"
     ]
    },
    {
     "name": "stderr",
     "output_type": "stream",
     "text": [
      "/Users/aronsyversen/Desktop/REMOTES/CPET-pred/src/feature_extraction/extraction_functions.py:235: UserWarning: Could not infer format, so each element will be parsed individually, falling back to `dateutil`. To ensure parsing is consistent and as-expected, please specify a format.\n",
      "  acc_df['time_cleaned'] = pd.to_datetime(acc_df['time'].str.split(\"[\").str[0])\n",
      "/Users/aronsyversen/Desktop/REMOTES/CPET-pred/src/feature_extraction/extraction_functions.py:235: UserWarning: Could not infer format, so each element will be parsed individually, falling back to `dateutil`. To ensure parsing is consistent and as-expected, please specify a format.\n",
      "  acc_df['time_cleaned'] = pd.to_datetime(acc_df['time'].str.split(\"[\").str[0])\n",
      "/Users/aronsyversen/Desktop/REMOTES/CPET-pred/src/feature_extraction/extraction_functions.py:235: UserWarning: Could not infer format, so each element will be parsed individually, falling back to `dateutil`. To ensure parsing is consistent and as-expected, please specify a format.\n",
      "  acc_df['time_cleaned'] = pd.to_datetime(acc_df['time'].str.split(\"[\").str[0])\n"
     ]
    },
    {
     "name": "stdout",
     "output_type": "stream",
     "text": [
      "Trimmed 1 values\n",
      "Resting HR during sleep:90.42368640533778\n",
      "Time in MVPA: 3.1366171003717476\n",
      "Starting patient R057\n",
      "Days: 3.7807379629629634\n",
      "Trimmed 1 values\n",
      "Resting HR during sleep:65.22566371681415\n",
      "Time in MVPA: 12.960432719753662\n",
      "Starting patient R058\n",
      "Days: 2.850360185185185\n",
      "Trimmed 1 values\n",
      "Resting HR during sleep:76.94655172413793\n",
      "Time in MVPA: 28.066628356585213\n",
      "Starting patient R059\n",
      "Days: 3.1643981481481482\n",
      "Trimmed 1 values\n",
      "Resting HR during sleep:67.48555133079847\n",
      "Time in MVPA: 20.699038785094583\n",
      "Starting patient R060\n",
      "Days: 2.16961712962963\n"
     ]
    },
    {
     "name": "stderr",
     "output_type": "stream",
     "text": [
      "/Users/aronsyversen/Desktop/REMOTES/CPET-pred/src/feature_extraction/extraction_functions.py:235: UserWarning: Could not infer format, so each element will be parsed individually, falling back to `dateutil`. To ensure parsing is consistent and as-expected, please specify a format.\n",
      "  acc_df['time_cleaned'] = pd.to_datetime(acc_df['time'].str.split(\"[\").str[0])\n",
      "/Users/aronsyversen/Desktop/REMOTES/CPET-pred/src/feature_extraction/extraction_functions.py:235: UserWarning: Could not infer format, so each element will be parsed individually, falling back to `dateutil`. To ensure parsing is consistent and as-expected, please specify a format.\n",
      "  acc_df['time_cleaned'] = pd.to_datetime(acc_df['time'].str.split(\"[\").str[0])\n",
      "/Users/aronsyversen/Desktop/REMOTES/CPET-pred/src/feature_extraction/extraction_functions.py:235: UserWarning: Could not infer format, so each element will be parsed individually, falling back to `dateutil`. To ensure parsing is consistent and as-expected, please specify a format.\n",
      "  acc_df['time_cleaned'] = pd.to_datetime(acc_df['time'].str.split(\"[\").str[0])\n"
     ]
    },
    {
     "name": "stdout",
     "output_type": "stream",
     "text": [
      "Resting HR during sleep:78.10278113663846\n",
      "Time in MVPA: 7.835483859266003\n",
      "Starting patient R061\n",
      "Days: 3.022222222222222\n",
      "Trimmed 1 values\n",
      "Resting HR during sleep:67.97263901147396\n",
      "Time in MVPA: 0.0\n",
      "Starting patient R062\n",
      "Days: 3.354074074074074\n",
      "Trimmed 1 values\n"
     ]
    },
    {
     "name": "stderr",
     "output_type": "stream",
     "text": [
      "/Users/aronsyversen/Desktop/REMOTES/CPET-pred/src/feature_extraction/extraction_functions.py:235: UserWarning: Could not infer format, so each element will be parsed individually, falling back to `dateutil`. To ensure parsing is consistent and as-expected, please specify a format.\n",
      "  acc_df['time_cleaned'] = pd.to_datetime(acc_df['time'].str.split(\"[\").str[0])\n",
      "/Users/aronsyversen/Desktop/REMOTES/CPET-pred/src/feature_extraction/extraction_functions.py:235: UserWarning: Could not infer format, so each element will be parsed individually, falling back to `dateutil`. To ensure parsing is consistent and as-expected, please specify a format.\n",
      "  acc_df['time_cleaned'] = pd.to_datetime(acc_df['time'].str.split(\"[\").str[0])\n",
      "/Users/aronsyversen/Desktop/REMOTES/CPET-pred/src/feature_extraction/extraction_functions.py:235: UserWarning: Could not infer format, so each element will be parsed individually, falling back to `dateutil`. To ensure parsing is consistent and as-expected, please specify a format.\n",
      "  acc_df['time_cleaned'] = pd.to_datetime(acc_df['time'].str.split(\"[\").str[0])\n"
     ]
    },
    {
     "name": "stdout",
     "output_type": "stream",
     "text": [
      "Resting HR during sleep:68.48089983022071\n",
      "Time in MVPA: 53.81515017667844\n",
      "Starting patient R063\n",
      "Days: 1.9249064814814816\n",
      "Trimmed 1 values\n",
      "Resting HR during sleep:77.38450704225352\n",
      "Time in MVPA: 0.0\n",
      "Starting patient R064\n",
      "Days: 2.6988449074074077\n",
      "Trimmed 1 values\n",
      "Resting HR during sleep:79.55732801595214\n"
     ]
    },
    {
     "name": "stderr",
     "output_type": "stream",
     "text": [
      "/Users/aronsyversen/Desktop/REMOTES/CPET-pred/src/feature_extraction/extraction_functions.py:235: UserWarning: Could not infer format, so each element will be parsed individually, falling back to `dateutil`. To ensure parsing is consistent and as-expected, please specify a format.\n",
      "  acc_df['time_cleaned'] = pd.to_datetime(acc_df['time'].str.split(\"[\").str[0])\n",
      "/Users/aronsyversen/Desktop/REMOTES/CPET-pred/src/feature_extraction/extraction_functions.py:235: UserWarning: Could not infer format, so each element will be parsed individually, falling back to `dateutil`. To ensure parsing is consistent and as-expected, please specify a format.\n",
      "  acc_df['time_cleaned'] = pd.to_datetime(acc_df['time'].str.split(\"[\").str[0])\n",
      "/Users/aronsyversen/Desktop/REMOTES/CPET-pred/src/feature_extraction/extraction_functions.py:235: UserWarning: Could not infer format, so each element will be parsed individually, falling back to `dateutil`. To ensure parsing is consistent and as-expected, please specify a format.\n",
      "  acc_df['time_cleaned'] = pd.to_datetime(acc_df['time'].str.split(\"[\").str[0])\n"
     ]
    },
    {
     "name": "stdout",
     "output_type": "stream",
     "text": [
      "Time in MVPA: 106.52705504155155\n",
      "Starting patient R065\n",
      "Days: 3.0103666666666666\n",
      "Trimmed 1 values\n",
      "Resting HR during sleep:76.06826241134752\n",
      "Time in MVPA: 10.131656165915558\n",
      "Starting patient R066\n",
      "Days: 1.1194185185185186\n",
      "Trimmed 1 values\n",
      "Resting HR during sleep:73.4095238095238\n",
      "Time in MVPA: 0.0\n",
      "Starting patient R067\n",
      "Days: 3.768886111111111\n",
      "Trimmed 1 values\n",
      "Resting HR during sleep:76.02655099894848\n",
      "Time in MVPA: 85.03838814739693\n",
      "Starting patient R068\n",
      "Days: 2.927355092592592\n",
      "Trimmed 1 values\n"
     ]
    },
    {
     "name": "stderr",
     "output_type": "stream",
     "text": [
      "/Users/aronsyversen/Desktop/REMOTES/CPET-pred/src/feature_extraction/extraction_functions.py:235: UserWarning: Could not infer format, so each element will be parsed individually, falling back to `dateutil`. To ensure parsing is consistent and as-expected, please specify a format.\n",
      "  acc_df['time_cleaned'] = pd.to_datetime(acc_df['time'].str.split(\"[\").str[0])\n",
      "/Users/aronsyversen/Desktop/REMOTES/CPET-pred/src/feature_extraction/extraction_functions.py:235: UserWarning: Could not infer format, so each element will be parsed individually, falling back to `dateutil`. To ensure parsing is consistent and as-expected, please specify a format.\n",
      "  acc_df['time_cleaned'] = pd.to_datetime(acc_df['time'].str.split(\"[\").str[0])\n",
      "/Users/aronsyversen/Desktop/REMOTES/CPET-pred/src/feature_extraction/extraction_functions.py:235: UserWarning: Could not infer format, so each element will be parsed individually, falling back to `dateutil`. To ensure parsing is consistent and as-expected, please specify a format.\n",
      "  acc_df['time_cleaned'] = pd.to_datetime(acc_df['time'].str.split(\"[\").str[0])\n",
      "/Users/aronsyversen/Desktop/REMOTES/CPET-pred/src/feature_extraction/extraction_functions.py:235: UserWarning: Could not infer format, so each element will be parsed individually, falling back to `dateutil`. To ensure parsing is consistent and as-expected, please specify a format.\n",
      "  acc_df['time_cleaned'] = pd.to_datetime(acc_df['time'].str.split(\"[\").str[0])\n"
     ]
    },
    {
     "name": "stdout",
     "output_type": "stream",
     "text": [
      "Resting HR during sleep:52.255714285714284\n",
      "Time in MVPA: 17.592672692942546\n",
      "Starting patient R069\n",
      "Days: 3.0103671296296297\n",
      "Trimmed 1 values\n",
      "Resting HR during sleep:57.38068181818182\n",
      "Time in MVPA: 0.0\n",
      "Starting patient R070\n",
      "Days: 1.2490680555555556\n",
      "Trimmed 1 values\n",
      "Resting HR during sleep:71.68776824034335\n",
      "Time in MVPA: 6.805073560398919\n",
      "Starting patient R071\n",
      "Days: 2.2037231481481485\n",
      "Trimmed 1 values\n"
     ]
    },
    {
     "name": "stderr",
     "output_type": "stream",
     "text": [
      "/Users/aronsyversen/Desktop/REMOTES/CPET-pred/src/feature_extraction/extraction_functions.py:235: UserWarning: Could not infer format, so each element will be parsed individually, falling back to `dateutil`. To ensure parsing is consistent and as-expected, please specify a format.\n",
      "  acc_df['time_cleaned'] = pd.to_datetime(acc_df['time'].str.split(\"[\").str[0])\n",
      "/Users/aronsyversen/Desktop/REMOTES/CPET-pred/src/feature_extraction/extraction_functions.py:235: UserWarning: Could not infer format, so each element will be parsed individually, falling back to `dateutil`. To ensure parsing is consistent and as-expected, please specify a format.\n",
      "  acc_df['time_cleaned'] = pd.to_datetime(acc_df['time'].str.split(\"[\").str[0])\n"
     ]
    },
    {
     "name": "stdout",
     "output_type": "stream",
     "text": [
      "Resting HR during sleep:81.72916666666667\n",
      "Time in MVPA: 5.445330104230172\n",
      "Starting patient R072\n",
      "Days: 5.0013856481481485\n",
      "Resting HR during sleep:106.07095018836333\n",
      "Time in MVPA: 4.698697851604643\n",
      "Starting patient R073\n",
      "Days: 2.7483449074074073\n",
      "Trimmed 1 values\n",
      "Resting HR during sleep:65.59535367545077\n",
      "Time in MVPA: 5.457830259794405\n",
      "Starting patient R074\n",
      "Days: 3.1525925925925926\n",
      "Trimmed 1 values\n"
     ]
    },
    {
     "name": "stderr",
     "output_type": "stream",
     "text": [
      "/Users/aronsyversen/Desktop/REMOTES/CPET-pred/src/feature_extraction/extraction_functions.py:235: UserWarning: Could not infer format, so each element will be parsed individually, falling back to `dateutil`. To ensure parsing is consistent and as-expected, please specify a format.\n",
      "  acc_df['time_cleaned'] = pd.to_datetime(acc_df['time'].str.split(\"[\").str[0])\n",
      "/Users/aronsyversen/Desktop/REMOTES/CPET-pred/src/feature_extraction/extraction_functions.py:235: UserWarning: Could not infer format, so each element will be parsed individually, falling back to `dateutil`. To ensure parsing is consistent and as-expected, please specify a format.\n",
      "  acc_df['time_cleaned'] = pd.to_datetime(acc_df['time'].str.split(\"[\").str[0])\n",
      "/Users/aronsyversen/Desktop/REMOTES/CPET-pred/src/feature_extraction/extraction_functions.py:235: UserWarning: Could not infer format, so each element will be parsed individually, falling back to `dateutil`. To ensure parsing is consistent and as-expected, please specify a format.\n",
      "  acc_df['time_cleaned'] = pd.to_datetime(acc_df['time'].str.split(\"[\").str[0])\n"
     ]
    },
    {
     "name": "stdout",
     "output_type": "stream",
     "text": [
      "Resting HR during sleep:68.62155963302752\n",
      "Time in MVPA: 1.4273966165413534\n",
      "Starting patient R075\n",
      "Days: 2.9037037037037035\n",
      "Trimmed 1 values\n",
      "Resting HR during sleep:73.98160999306037\n",
      "Time in MVPA: 0.0\n",
      "Starting patient R076\n",
      "Days: 2.9747685185185184\n",
      "Trimmed 1 values\n"
     ]
    },
    {
     "name": "stderr",
     "output_type": "stream",
     "text": [
      "/Users/aronsyversen/Desktop/REMOTES/CPET-pred/src/feature_extraction/extraction_functions.py:235: UserWarning: Could not infer format, so each element will be parsed individually, falling back to `dateutil`. To ensure parsing is consistent and as-expected, please specify a format.\n",
      "  acc_df['time_cleaned'] = pd.to_datetime(acc_df['time'].str.split(\"[\").str[0])\n",
      "/Users/aronsyversen/Desktop/REMOTES/CPET-pred/src/feature_extraction/extraction_functions.py:235: UserWarning: Could not infer format, so each element will be parsed individually, falling back to `dateutil`. To ensure parsing is consistent and as-expected, please specify a format.\n",
      "  acc_df['time_cleaned'] = pd.to_datetime(acc_df['time'].str.split(\"[\").str[0])\n",
      "/Users/aronsyversen/Desktop/REMOTES/CPET-pred/src/feature_extraction/extraction_functions.py:235: UserWarning: Could not infer format, so each element will be parsed individually, falling back to `dateutil`. To ensure parsing is consistent and as-expected, please specify a format.\n",
      "  acc_df['time_cleaned'] = pd.to_datetime(acc_df['time'].str.split(\"[\").str[0])\n"
     ]
    },
    {
     "name": "stdout",
     "output_type": "stream",
     "text": [
      "Resting HR during sleep:68.5364238410596\n",
      "Time in MVPA: 1.3446424402770212\n",
      "Starting patient R077\n",
      "Days: 3.0695763888888887\n",
      "Trimmed 1 values\n",
      "Resting HR during sleep:60.46915351506456\n",
      "Time in MVPA: 135.5235860901907\n",
      "Starting patient R078\n",
      "Days: 2.074074074074074\n",
      "Trimmed 1 values\n",
      "Resting HR during sleep:73.44064949608062\n",
      "Time in MVPA: 44.598214285714285\n",
      "Starting patient R079\n",
      "Days: 3.780740740740741\n",
      "Trimmed 1 values\n",
      "Resting HR during sleep:70.91735995562951\n",
      "Time in MVPA: 2.5127351097178683\n",
      "Starting patient R080\n",
      "Days: 4.823703703703704\n"
     ]
    },
    {
     "name": "stderr",
     "output_type": "stream",
     "text": [
      "/Users/aronsyversen/Desktop/REMOTES/CPET-pred/src/feature_extraction/extraction_functions.py:235: UserWarning: Could not infer format, so each element will be parsed individually, falling back to `dateutil`. To ensure parsing is consistent and as-expected, please specify a format.\n",
      "  acc_df['time_cleaned'] = pd.to_datetime(acc_df['time'].str.split(\"[\").str[0])\n",
      "/Users/aronsyversen/Desktop/REMOTES/CPET-pred/src/feature_extraction/extraction_functions.py:235: UserWarning: Could not infer format, so each element will be parsed individually, falling back to `dateutil`. To ensure parsing is consistent and as-expected, please specify a format.\n",
      "  acc_df['time_cleaned'] = pd.to_datetime(acc_df['time'].str.split(\"[\").str[0])\n"
     ]
    },
    {
     "name": "stdout",
     "output_type": "stream",
     "text": [
      "Resting HR during sleep:85.02061170212765\n",
      "Time in MVPA: 9.639895577395576\n",
      "Starting patient R081\n",
      "Days: 2.961052314814815\n",
      "Resting HR during sleep:75.03175895765472\n",
      "Time in MVPA: 4.052613302359193\n",
      "Starting patient R082\n",
      "Days: 1.0002925925925927\n"
     ]
    },
    {
     "name": "stderr",
     "output_type": "stream",
     "text": [
      "/Users/aronsyversen/Desktop/REMOTES/CPET-pred/src/feature_extraction/extraction_functions.py:235: UserWarning: Could not infer format, so each element will be parsed individually, falling back to `dateutil`. To ensure parsing is consistent and as-expected, please specify a format.\n",
      "  acc_df['time_cleaned'] = pd.to_datetime(acc_df['time'].str.split(\"[\").str[0])\n",
      "/Users/aronsyversen/Desktop/REMOTES/CPET-pred/src/feature_extraction/extraction_functions.py:235: UserWarning: Could not infer format, so each element will be parsed individually, falling back to `dateutil`. To ensure parsing is consistent and as-expected, please specify a format.\n",
      "  acc_df['time_cleaned'] = pd.to_datetime(acc_df['time'].str.split(\"[\").str[0])\n",
      "/Users/aronsyversen/Desktop/REMOTES/CPET-pred/src/feature_extraction/extraction_functions.py:235: UserWarning: Could not infer format, so each element will be parsed individually, falling back to `dateutil`. To ensure parsing is consistent and as-expected, please specify a format.\n",
      "  acc_df['time_cleaned'] = pd.to_datetime(acc_df['time'].str.split(\"[\").str[0])\n"
     ]
    },
    {
     "name": "stdout",
     "output_type": "stream",
     "text": [
      "Resting HR during sleep:63.6023720349563\n",
      "Time in MVPA: 0.0\n",
      "Starting patient R083\n",
      "Days: 3.0933296296296295\n",
      "Trimmed 1 values\n",
      "Resting HR during sleep:70.44128646222887\n",
      "Time in MVPA: 0.0\n",
      "Starting patient R084\n",
      "Days: 3.1640486111111112\n"
     ]
    },
    {
     "name": "stderr",
     "output_type": "stream",
     "text": [
      "/Users/aronsyversen/Desktop/REMOTES/CPET-pred/src/feature_extraction/extraction_functions.py:235: UserWarning: Could not infer format, so each element will be parsed individually, falling back to `dateutil`. To ensure parsing is consistent and as-expected, please specify a format.\n",
      "  acc_df['time_cleaned'] = pd.to_datetime(acc_df['time'].str.split(\"[\").str[0])\n",
      "/Users/aronsyversen/Desktop/REMOTES/CPET-pred/src/feature_extraction/extraction_functions.py:235: UserWarning: Could not infer format, so each element will be parsed individually, falling back to `dateutil`. To ensure parsing is consistent and as-expected, please specify a format.\n",
      "  acc_df['time_cleaned'] = pd.to_datetime(acc_df['time'].str.split(\"[\").str[0])\n",
      "/Users/aronsyversen/Desktop/REMOTES/CPET-pred/src/feature_extraction/extraction_functions.py:235: UserWarning: Could not infer format, so each element will be parsed individually, falling back to `dateutil`. To ensure parsing is consistent and as-expected, please specify a format.\n",
      "  acc_df['time_cleaned'] = pd.to_datetime(acc_df['time'].str.split(\"[\").str[0])\n"
     ]
    },
    {
     "name": "stdout",
     "output_type": "stream",
     "text": [
      "Resting HR during sleep:56.66418966737438\n",
      "Time in MVPA: 3.792609240534389\n",
      "Starting patient R085\n",
      "Days: 2.962956481481482\n",
      "Trimmed 1 values\n",
      "Resting HR during sleep:74.0904365904366\n",
      "Time in MVPA: 3.543757751970082\n",
      "Starting patient R086\n",
      "Days: 4.11251574074074\n",
      "Resting HR during sleep:73.61884669479606\n",
      "Time in MVPA: 162.1878290683116\n",
      "Starting patient R087\n",
      "Days: 4.029583333333333\n",
      "Trimmed 1 values\n"
     ]
    },
    {
     "name": "stderr",
     "output_type": "stream",
     "text": [
      "/Users/aronsyversen/Desktop/REMOTES/CPET-pred/src/feature_extraction/extraction_functions.py:235: UserWarning: Could not infer format, so each element will be parsed individually, falling back to `dateutil`. To ensure parsing is consistent and as-expected, please specify a format.\n",
      "  acc_df['time_cleaned'] = pd.to_datetime(acc_df['time'].str.split(\"[\").str[0])\n",
      "/Users/aronsyversen/Desktop/REMOTES/CPET-pred/src/feature_extraction/extraction_functions.py:235: UserWarning: Could not infer format, so each element will be parsed individually, falling back to `dateutil`. To ensure parsing is consistent and as-expected, please specify a format.\n",
      "  acc_df['time_cleaned'] = pd.to_datetime(acc_df['time'].str.split(\"[\").str[0])\n",
      "/Users/aronsyversen/Desktop/REMOTES/CPET-pred/src/feature_extraction/extraction_functions.py:235: UserWarning: Could not infer format, so each element will be parsed individually, falling back to `dateutil`. To ensure parsing is consistent and as-expected, please specify a format.\n",
      "  acc_df['time_cleaned'] = pd.to_datetime(acc_df['time'].str.split(\"[\").str[0])\n"
     ]
    },
    {
     "name": "stdout",
     "output_type": "stream",
     "text": [
      "Resting HR during sleep:82.51341921631777\n",
      "Time in MVPA: 116.38920483921002\n",
      "Starting patient R088\n",
      "Days: 2.2281018518518523\n",
      "Resting HR during sleep:57.69713261648746\n",
      "Time in MVPA: 32.09009495709269\n",
      "Starting patient R089\n",
      "Days: 3.0103240740740738\n",
      "Trimmed 1 values\n",
      "Resting HR during sleep:75.52119527449618\n",
      "Time in MVPA: 23.751595589253036\n",
      "Starting patient R090\n",
      "Days: 2.8835981481481476\n",
      "Trimmed 1 values\n",
      "Resting HR during sleep:69.38901869158879\n",
      "Time in MVPA: 0.0\n",
      "Starting patient R091\n",
      "Days: 2.430471296296296\n",
      "Trimmed 1 values\n",
      "Resting HR during sleep:81.85124434389141\n",
      "Time in MVPA: 25.509455756370983\n",
      "Starting patient R092\n",
      "Days: 3.069537037037037\n",
      "Trimmed 1 values\n"
     ]
    },
    {
     "name": "stderr",
     "output_type": "stream",
     "text": [
      "/Users/aronsyversen/Desktop/REMOTES/CPET-pred/src/feature_extraction/extraction_functions.py:235: UserWarning: Could not infer format, so each element will be parsed individually, falling back to `dateutil`. To ensure parsing is consistent and as-expected, please specify a format.\n",
      "  acc_df['time_cleaned'] = pd.to_datetime(acc_df['time'].str.split(\"[\").str[0])\n",
      "/Users/aronsyversen/Desktop/REMOTES/CPET-pred/src/feature_extraction/extraction_functions.py:235: UserWarning: Could not infer format, so each element will be parsed individually, falling back to `dateutil`. To ensure parsing is consistent and as-expected, please specify a format.\n",
      "  acc_df['time_cleaned'] = pd.to_datetime(acc_df['time'].str.split(\"[\").str[0])\n",
      "/Users/aronsyversen/Desktop/REMOTES/CPET-pred/src/feature_extraction/extraction_functions.py:235: UserWarning: Could not infer format, so each element will be parsed individually, falling back to `dateutil`. To ensure parsing is consistent and as-expected, please specify a format.\n",
      "  acc_df['time_cleaned'] = pd.to_datetime(acc_df['time'].str.split(\"[\").str[0])\n"
     ]
    },
    {
     "name": "stdout",
     "output_type": "stream",
     "text": [
      "Resting HR during sleep:70.60925925925926\n",
      "Time in MVPA: 33.39265783837592\n",
      "Starting patient R093\n",
      "Days: 2.974811574074074\n",
      "Trimmed 1 values\n",
      "Resting HR during sleep:83.79154078549848\n",
      "Time in MVPA: 7.731582127906328\n",
      "Starting patient R094\n",
      "Days: 0.4485384259259258\n",
      "No resting HR found\n",
      "Time in MVPA: 49.04819459912495\n",
      "Starting patient R096\n",
      "Days: 4.254867592592592\n"
     ]
    },
    {
     "name": "stderr",
     "output_type": "stream",
     "text": [
      "/Users/aronsyversen/Desktop/REMOTES/CPET-pred/src/feature_extraction/extraction_functions.py:235: UserWarning: Could not infer format, so each element will be parsed individually, falling back to `dateutil`. To ensure parsing is consistent and as-expected, please specify a format.\n",
      "  acc_df['time_cleaned'] = pd.to_datetime(acc_df['time'].str.split(\"[\").str[0])\n",
      "/Users/aronsyversen/Desktop/REMOTES/CPET-pred/src/feature_extraction/extraction_functions.py:235: UserWarning: Could not infer format, so each element will be parsed individually, falling back to `dateutil`. To ensure parsing is consistent and as-expected, please specify a format.\n",
      "  acc_df['time_cleaned'] = pd.to_datetime(acc_df['time'].str.split(\"[\").str[0])\n",
      "/Users/aronsyversen/Desktop/REMOTES/CPET-pred/src/feature_extraction/extraction_functions.py:235: UserWarning: Could not infer format, so each element will be parsed individually, falling back to `dateutil`. To ensure parsing is consistent and as-expected, please specify a format.\n",
      "  acc_df['time_cleaned'] = pd.to_datetime(acc_df['time'].str.split(\"[\").str[0])\n"
     ]
    },
    {
     "name": "stdout",
     "output_type": "stream",
     "text": [
      "Resting HR during sleep:77.3942065491184\n",
      "Time in MVPA: 8.343385364518243\n",
      "Starting patient R097\n",
      "Days: 2.9037037037037035\n",
      "Trimmed 1 values\n",
      "Resting HR during sleep:70.72533936651584\n",
      "Time in MVPA: 23.073979591836736\n",
      "Starting patient R098\n",
      "Days: 2.062215277777778\n",
      "Resting HR during sleep:103.57786885245902\n",
      "Time in MVPA: 0.0\n",
      "Starting patient R099\n",
      "Days: 3.081481481481481\n"
     ]
    },
    {
     "name": "stderr",
     "output_type": "stream",
     "text": [
      "/Users/aronsyversen/Desktop/REMOTES/CPET-pred/src/feature_extraction/extraction_functions.py:235: UserWarning: Could not infer format, so each element will be parsed individually, falling back to `dateutil`. To ensure parsing is consistent and as-expected, please specify a format.\n",
      "  acc_df['time_cleaned'] = pd.to_datetime(acc_df['time'].str.split(\"[\").str[0])\n",
      "/Users/aronsyversen/Desktop/REMOTES/CPET-pred/src/feature_extraction/extraction_functions.py:235: UserWarning: Could not infer format, so each element will be parsed individually, falling back to `dateutil`. To ensure parsing is consistent and as-expected, please specify a format.\n",
      "  acc_df['time_cleaned'] = pd.to_datetime(acc_df['time'].str.split(\"[\").str[0])\n",
      "/Users/aronsyversen/Desktop/REMOTES/CPET-pred/src/feature_extraction/extraction_functions.py:235: UserWarning: Could not infer format, so each element will be parsed individually, falling back to `dateutil`. To ensure parsing is consistent and as-expected, please specify a format.\n",
      "  acc_df['time_cleaned'] = pd.to_datetime(acc_df['time'].str.split(\"[\").str[0])\n"
     ]
    },
    {
     "name": "stdout",
     "output_type": "stream",
     "text": [
      "Trimmed 1 values\n",
      "Resting HR during sleep:63.450447093889714\n",
      "Time in MVPA: 19.146634615384617\n",
      "Starting patient R100\n",
      "Days: 4.9185185185185185\n",
      "Trimmed 1 values\n"
     ]
    },
    {
     "name": "stderr",
     "output_type": "stream",
     "text": [
      "/Users/aronsyversen/Desktop/REMOTES/CPET-pred/src/feature_extraction/extraction_functions.py:235: UserWarning: Could not infer format, so each element will be parsed individually, falling back to `dateutil`. To ensure parsing is consistent and as-expected, please specify a format.\n",
      "  acc_df['time_cleaned'] = pd.to_datetime(acc_df['time'].str.split(\"[\").str[0])\n",
      "/Users/aronsyversen/Desktop/REMOTES/CPET-pred/src/feature_extraction/extraction_functions.py:235: UserWarning: Could not infer format, so each element will be parsed individually, falling back to `dateutil`. To ensure parsing is consistent and as-expected, please specify a format.\n",
      "  acc_df['time_cleaned'] = pd.to_datetime(acc_df['time'].str.split(\"[\").str[0])\n",
      "/Users/aronsyversen/Desktop/REMOTES/CPET-pred/src/feature_extraction/extraction_functions.py:235: UserWarning: Could not infer format, so each element will be parsed individually, falling back to `dateutil`. To ensure parsing is consistent and as-expected, please specify a format.\n",
      "  acc_df['time_cleaned'] = pd.to_datetime(acc_df['time'].str.split(\"[\").str[0])\n"
     ]
    },
    {
     "name": "stdout",
     "output_type": "stream",
     "text": [
      "Resting HR during sleep:70.41974972796518\n",
      "Time in MVPA: 1.016566265060241\n",
      "Starting patient R101\n",
      "Days: 3.9938888888888893\n",
      "Trimmed 1 values\n",
      "Resting HR during sleep:65.0454878943507\n",
      "Time in MVPA: 33.67645013214633\n",
      "Starting patient R102\n",
      "Days: 2.998518518518518\n",
      "Trimmed 1 values\n",
      "Resting HR during sleep:89.20523846755277\n",
      "Time in MVPA: 13.006422924901187\n",
      "Starting patient R103\n",
      "Days: 3.057777777777778\n",
      "Trimmed 1 values\n",
      "Resting HR during sleep:76.08697158697159\n",
      "Time in MVPA: 42.84156976744186\n",
      "Starting patient R104\n",
      "Days: 3.034074074074074\n"
     ]
    },
    {
     "name": "stderr",
     "output_type": "stream",
     "text": [
      "/Users/aronsyversen/Desktop/REMOTES/CPET-pred/src/feature_extraction/extraction_functions.py:235: UserWarning: Could not infer format, so each element will be parsed individually, falling back to `dateutil`. To ensure parsing is consistent and as-expected, please specify a format.\n",
      "  acc_df['time_cleaned'] = pd.to_datetime(acc_df['time'].str.split(\"[\").str[0])\n",
      "/Users/aronsyversen/Desktop/REMOTES/CPET-pred/src/feature_extraction/extraction_functions.py:235: UserWarning: Could not infer format, so each element will be parsed individually, falling back to `dateutil`. To ensure parsing is consistent and as-expected, please specify a format.\n",
      "  acc_df['time_cleaned'] = pd.to_datetime(acc_df['time'].str.split(\"[\").str[0])\n",
      "/Users/aronsyversen/Desktop/REMOTES/CPET-pred/src/feature_extraction/extraction_functions.py:235: UserWarning: Could not infer format, so each element will be parsed individually, falling back to `dateutil`. To ensure parsing is consistent and as-expected, please specify a format.\n",
      "  acc_df['time_cleaned'] = pd.to_datetime(acc_df['time'].str.split(\"[\").str[0])\n"
     ]
    },
    {
     "name": "stdout",
     "output_type": "stream",
     "text": [
      "Resting HR during sleep:71.06604609929079\n",
      "Time in MVPA: 4.28466796875\n",
      "Starting patient R105\n",
      "Days: 3.3113708333333327\n",
      "Trimmed 1 values\n",
      "Resting HR during sleep:73.76368676368676\n",
      "Time in MVPA: 46.35542430186895\n",
      "Starting patient R106\n",
      "Days: 3.0221259259259257\n",
      "Trimmed 1 values\n"
     ]
    },
    {
     "name": "stderr",
     "output_type": "stream",
     "text": [
      "/Users/aronsyversen/Desktop/REMOTES/CPET-pred/src/feature_extraction/extraction_functions.py:235: UserWarning: Could not infer format, so each element will be parsed individually, falling back to `dateutil`. To ensure parsing is consistent and as-expected, please specify a format.\n",
      "  acc_df['time_cleaned'] = pd.to_datetime(acc_df['time'].str.split(\"[\").str[0])\n",
      "/Users/aronsyversen/Desktop/REMOTES/CPET-pred/src/feature_extraction/extraction_functions.py:235: UserWarning: Could not infer format, so each element will be parsed individually, falling back to `dateutil`. To ensure parsing is consistent and as-expected, please specify a format.\n",
      "  acc_df['time_cleaned'] = pd.to_datetime(acc_df['time'].str.split(\"[\").str[0])\n",
      "/Users/aronsyversen/Desktop/REMOTES/CPET-pred/src/feature_extraction/extraction_functions.py:235: UserWarning: Could not infer format, so each element will be parsed individually, falling back to `dateutil`. To ensure parsing is consistent and as-expected, please specify a format.\n",
      "  acc_df['time_cleaned'] = pd.to_datetime(acc_df['time'].str.split(\"[\").str[0])\n"
     ]
    },
    {
     "name": "stdout",
     "output_type": "stream",
     "text": [
      "Resting HR during sleep:70.76091476091476\n",
      "Time in MVPA: 12.243037155595646\n",
      "Starting patient R107\n",
      "Days: 2.951111111111111\n",
      "Resting HR during sleep:82.28951098511693\n",
      "Time in MVPA: 3.5579819277108435\n",
      "Starting patient R108\n",
      "Days: 2.3940740740740742\n",
      "Trimmed 1 values\n",
      "Resting HR during sleep:60.97345767575323\n",
      "Time in MVPA: 164.78186881188117\n",
      "Starting patient R109\n",
      "Days: 1.7540703703703704\n",
      "Trimmed 1 values\n",
      "Resting HR during sleep:92.82018927444796\n",
      "Time in MVPA: 8.836589604285482\n",
      "Starting patient R110\n",
      "Days: 3.057777777777778\n",
      "Trimmed 1 values\n",
      "Resting HR during sleep:79.42574600971548\n",
      "Time in MVPA: 7.194767441860464\n",
      "Starting patient R111\n",
      "Days: 2.8064435185185186\n"
     ]
    },
    {
     "name": "stderr",
     "output_type": "stream",
     "text": [
      "/Users/aronsyversen/Desktop/REMOTES/CPET-pred/src/feature_extraction/extraction_functions.py:235: UserWarning: Could not infer format, so each element will be parsed individually, falling back to `dateutil`. To ensure parsing is consistent and as-expected, please specify a format.\n",
      "  acc_df['time_cleaned'] = pd.to_datetime(acc_df['time'].str.split(\"[\").str[0])\n",
      "/Users/aronsyversen/Desktop/REMOTES/CPET-pred/src/feature_extraction/extraction_functions.py:235: UserWarning: Could not infer format, so each element will be parsed individually, falling back to `dateutil`. To ensure parsing is consistent and as-expected, please specify a format.\n",
      "  acc_df['time_cleaned'] = pd.to_datetime(acc_df['time'].str.split(\"[\").str[0])\n",
      "/Users/aronsyversen/Desktop/REMOTES/CPET-pred/src/feature_extraction/extraction_functions.py:235: UserWarning: Could not infer format, so each element will be parsed individually, falling back to `dateutil`. To ensure parsing is consistent and as-expected, please specify a format.\n",
      "  acc_df['time_cleaned'] = pd.to_datetime(acc_df['time'].str.split(\"[\").str[0])\n"
     ]
    },
    {
     "name": "stdout",
     "output_type": "stream",
     "text": [
      "Resting HR during sleep:73.35769603097773\n",
      "Time in MVPA: 1.781614333945131\n",
      "Starting patient R112\n",
      "Days: 0.9997282407407408\n",
      "Resting HR during sleep:74.70856353591161\n",
      "Time in MVPA: 5.00135916566215\n",
      "Starting patient R113\n",
      "Days: 3.022222222222222\n",
      "Trimmed 1 values\n",
      "Resting HR during sleep:83.61843971631205\n",
      "Time in MVPA: 4.301470588235294\n",
      "Starting patient R114\n",
      "Days: 3.022222222222222\n",
      "Trimmed 1 values\n"
     ]
    },
    {
     "name": "stderr",
     "output_type": "stream",
     "text": [
      "/Users/aronsyversen/Desktop/REMOTES/CPET-pred/src/feature_extraction/extraction_functions.py:235: UserWarning: Could not infer format, so each element will be parsed individually, falling back to `dateutil`. To ensure parsing is consistent and as-expected, please specify a format.\n",
      "  acc_df['time_cleaned'] = pd.to_datetime(acc_df['time'].str.split(\"[\").str[0])\n",
      "/Users/aronsyversen/Desktop/REMOTES/CPET-pred/src/feature_extraction/extraction_functions.py:235: UserWarning: Could not infer format, so each element will be parsed individually, falling back to `dateutil`. To ensure parsing is consistent and as-expected, please specify a format.\n",
      "  acc_df['time_cleaned'] = pd.to_datetime(acc_df['time'].str.split(\"[\").str[0])\n",
      "/Users/aronsyversen/Desktop/REMOTES/CPET-pred/src/feature_extraction/extraction_functions.py:235: UserWarning: Could not infer format, so each element will be parsed individually, falling back to `dateutil`. To ensure parsing is consistent and as-expected, please specify a format.\n",
      "  acc_df['time_cleaned'] = pd.to_datetime(acc_df['time'].str.split(\"[\").str[0])\n"
     ]
    },
    {
     "name": "stdout",
     "output_type": "stream",
     "text": [
      "Resting HR during sleep:64.37374100719424\n",
      "Time in MVPA: 0.0\n",
      "Starting patient R115\n",
      "Days: 2.9274046296296294\n",
      "Trimmed 1 values\n",
      "Resting HR during sleep:71.68478260869566\n",
      "Time in MVPA: 44.06633736051749\n",
      "Starting patient R116\n",
      "Days: 3.188148148148148\n",
      "Trimmed 1 values\n"
     ]
    },
    {
     "name": "stderr",
     "output_type": "stream",
     "text": [
      "/Users/aronsyversen/Desktop/REMOTES/CPET-pred/src/feature_extraction/extraction_functions.py:235: UserWarning: Could not infer format, so each element will be parsed individually, falling back to `dateutil`. To ensure parsing is consistent and as-expected, please specify a format.\n",
      "  acc_df['time_cleaned'] = pd.to_datetime(acc_df['time'].str.split(\"[\").str[0])\n",
      "/Users/aronsyversen/Desktop/REMOTES/CPET-pred/src/feature_extraction/extraction_functions.py:235: UserWarning: Could not infer format, so each element will be parsed individually, falling back to `dateutil`. To ensure parsing is consistent and as-expected, please specify a format.\n",
      "  acc_df['time_cleaned'] = pd.to_datetime(acc_df['time'].str.split(\"[\").str[0])\n",
      "/Users/aronsyversen/Desktop/REMOTES/CPET-pred/src/feature_extraction/extraction_functions.py:235: UserWarning: Could not infer format, so each element will be parsed individually, falling back to `dateutil`. To ensure parsing is consistent and as-expected, please specify a format.\n",
      "  acc_df['time_cleaned'] = pd.to_datetime(acc_df['time'].str.split(\"[\").str[0])\n"
     ]
    },
    {
     "name": "stdout",
     "output_type": "stream",
     "text": [
      "Resting HR during sleep:81.93307692307692\n",
      "Time in MVPA: 44.85362453531599\n",
      "Starting patient R117\n",
      "Days: 2.026666666666667\n",
      "Trimmed 1 values\n",
      "Resting HR during sleep:68.79729729729729\n",
      "Time in MVPA: 87.58223684210526\n",
      "Starting patient R118\n",
      "Days: 2.898583333333333\n",
      "Trimmed 1 values\n"
     ]
    },
    {
     "name": "stderr",
     "output_type": "stream",
     "text": [
      "/Users/aronsyversen/Desktop/REMOTES/CPET-pred/src/feature_extraction/extraction_functions.py:235: UserWarning: Could not infer format, so each element will be parsed individually, falling back to `dateutil`. To ensure parsing is consistent and as-expected, please specify a format.\n",
      "  acc_df['time_cleaned'] = pd.to_datetime(acc_df['time'].str.split(\"[\").str[0])\n",
      "/Users/aronsyversen/Desktop/REMOTES/CPET-pred/src/feature_extraction/extraction_functions.py:235: UserWarning: Could not infer format, so each element will be parsed individually, falling back to `dateutil`. To ensure parsing is consistent and as-expected, please specify a format.\n",
      "  acc_df['time_cleaned'] = pd.to_datetime(acc_df['time'].str.split(\"[\").str[0])\n",
      "/Users/aronsyversen/Desktop/REMOTES/CPET-pred/src/feature_extraction/extraction_functions.py:235: UserWarning: Could not infer format, so each element will be parsed individually, falling back to `dateutil`. To ensure parsing is consistent and as-expected, please specify a format.\n",
      "  acc_df['time_cleaned'] = pd.to_datetime(acc_df['time'].str.split(\"[\").str[0])\n"
     ]
    },
    {
     "name": "stdout",
     "output_type": "stream",
     "text": [
      "Resting HR during sleep:78.7986832986833\n",
      "Time in MVPA: 116.43619009286148\n",
      "Starting patient R119\n",
      "Days: 2.4888819444444445\n",
      "Trimmed 1 values\n",
      "Resting HR during sleep:76.66439688715953\n",
      "Time in MVPA: 0.0\n",
      "Starting patient R120\n",
      "Days: 4.918465740740742\n",
      "Trimmed 1 values\n",
      "Resting HR during sleep:70.89852398523985\n",
      "Time in MVPA: 0.0\n",
      "Starting patient R121\n",
      "Days: 1.9843912037037035\n",
      "Resting HR during sleep:65.0566528066528\n",
      "Time in MVPA: 49.38542350776955\n",
      "Starting patient R122\n",
      "Days: 2.974811574074074\n",
      "Trimmed 1 values\n",
      "Resting HR during sleep:61.28710178710179\n",
      "Time in MVPA: 33.95173021384952\n",
      "Starting patient R123\n",
      "Days: 3.045925925925926\n"
     ]
    },
    {
     "name": "stderr",
     "output_type": "stream",
     "text": [
      "/Users/aronsyversen/Desktop/REMOTES/CPET-pred/src/feature_extraction/extraction_functions.py:235: UserWarning: Could not infer format, so each element will be parsed individually, falling back to `dateutil`. To ensure parsing is consistent and as-expected, please specify a format.\n",
      "  acc_df['time_cleaned'] = pd.to_datetime(acc_df['time'].str.split(\"[\").str[0])\n",
      "/Users/aronsyversen/Desktop/REMOTES/CPET-pred/src/feature_extraction/extraction_functions.py:235: UserWarning: Could not infer format, so each element will be parsed individually, falling back to `dateutil`. To ensure parsing is consistent and as-expected, please specify a format.\n",
      "  acc_df['time_cleaned'] = pd.to_datetime(acc_df['time'].str.split(\"[\").str[0])\n",
      "/Users/aronsyversen/Desktop/REMOTES/CPET-pred/src/feature_extraction/extraction_functions.py:235: UserWarning: Could not infer format, so each element will be parsed individually, falling back to `dateutil`. To ensure parsing is consistent and as-expected, please specify a format.\n",
      "  acc_df['time_cleaned'] = pd.to_datetime(acc_df['time'].str.split(\"[\").str[0])\n"
     ]
    },
    {
     "name": "stdout",
     "output_type": "stream",
     "text": [
      "Resting HR during sleep:60.778955954323\n",
      "Time in MVPA: 91.43360894941634\n",
      "Starting patient R124\n",
      "Days: 2.254544444444445\n",
      "Trimmed 1 values\n",
      "Resting HR during sleep:68.03782148260211\n",
      "Time in MVPA: 46.7943758039318\n",
      "Starting patient R125\n",
      "Days: 3.022222222222222\n",
      "Trimmed 1 values\n"
     ]
    },
    {
     "name": "stderr",
     "output_type": "stream",
     "text": [
      "/Users/aronsyversen/Desktop/REMOTES/CPET-pred/src/feature_extraction/extraction_functions.py:235: UserWarning: Could not infer format, so each element will be parsed individually, falling back to `dateutil`. To ensure parsing is consistent and as-expected, please specify a format.\n",
      "  acc_df['time_cleaned'] = pd.to_datetime(acc_df['time'].str.split(\"[\").str[0])\n",
      "/Users/aronsyversen/Desktop/REMOTES/CPET-pred/src/feature_extraction/extraction_functions.py:235: UserWarning: Could not infer format, so each element will be parsed individually, falling back to `dateutil`. To ensure parsing is consistent and as-expected, please specify a format.\n",
      "  acc_df['time_cleaned'] = pd.to_datetime(acc_df['time'].str.split(\"[\").str[0])\n",
      "/Users/aronsyversen/Desktop/REMOTES/CPET-pred/src/feature_extraction/extraction_functions.py:235: UserWarning: Could not infer format, so each element will be parsed individually, falling back to `dateutil`. To ensure parsing is consistent and as-expected, please specify a format.\n",
      "  acc_df['time_cleaned'] = pd.to_datetime(acc_df['time'].str.split(\"[\").str[0])\n"
     ]
    },
    {
     "name": "stdout",
     "output_type": "stream",
     "text": [
      "Resting HR during sleep:78.16315049226442\n",
      "Time in MVPA: 34.908088235294116\n",
      "Starting patient R126\n",
      "Days: 2.927400925925926\n",
      "Trimmed 1 values\n",
      "Resting HR during sleep:87.84432515337423\n",
      "Time in MVPA: 0.0\n",
      "Starting patient R127\n",
      "Days: 2.0572027777777775\n",
      "Resting HR during sleep:83.16156462585035\n",
      "Time in MVPA: 23.818750649817108\n",
      "Starting patient R128\n",
      "Days: 3.045925925925926\n"
     ]
    },
    {
     "name": "stderr",
     "output_type": "stream",
     "text": [
      "/Users/aronsyversen/Desktop/REMOTES/CPET-pred/src/feature_extraction/extraction_functions.py:235: UserWarning: Could not infer format, so each element will be parsed individually, falling back to `dateutil`. To ensure parsing is consistent and as-expected, please specify a format.\n",
      "  acc_df['time_cleaned'] = pd.to_datetime(acc_df['time'].str.split(\"[\").str[0])\n",
      "/Users/aronsyversen/Desktop/REMOTES/CPET-pred/src/feature_extraction/extraction_functions.py:235: UserWarning: Could not infer format, so each element will be parsed individually, falling back to `dateutil`. To ensure parsing is consistent and as-expected, please specify a format.\n",
      "  acc_df['time_cleaned'] = pd.to_datetime(acc_df['time'].str.split(\"[\").str[0])\n",
      "/Users/aronsyversen/Desktop/REMOTES/CPET-pred/src/feature_extraction/extraction_functions.py:235: UserWarning: Could not infer format, so each element will be parsed individually, falling back to `dateutil`. To ensure parsing is consistent and as-expected, please specify a format.\n",
      "  acc_df['time_cleaned'] = pd.to_datetime(acc_df['time'].str.split(\"[\").str[0])\n"
     ]
    },
    {
     "name": "stdout",
     "output_type": "stream",
     "text": [
      "Resting HR during sleep:86.20305980528512\n",
      "Time in MVPA: 0.0\n",
      "Starting patient R129\n",
      "Days: 3.022095833333333\n",
      "Trimmed 1 values\n",
      "Resting HR during sleep:77.0038387715931\n",
      "Time in MVPA: 10.754126206564704\n",
      "Starting patient R130\n",
      "Days: 3.0103597222222223\n",
      "Trimmed 1 values\n",
      "Resting HR during sleep:68.09719142645972\n",
      "Time in MVPA: 41.19109058118285\n",
      "Starting patient R131\n",
      "Days: 2.9866601851851855\n"
     ]
    },
    {
     "name": "stderr",
     "output_type": "stream",
     "text": [
      "/Users/aronsyversen/Desktop/REMOTES/CPET-pred/src/feature_extraction/extraction_functions.py:235: UserWarning: Could not infer format, so each element will be parsed individually, falling back to `dateutil`. To ensure parsing is consistent and as-expected, please specify a format.\n",
      "  acc_df['time_cleaned'] = pd.to_datetime(acc_df['time'].str.split(\"[\").str[0])\n",
      "/Users/aronsyversen/Desktop/REMOTES/CPET-pred/src/feature_extraction/extraction_functions.py:235: UserWarning: Could not infer format, so each element will be parsed individually, falling back to `dateutil`. To ensure parsing is consistent and as-expected, please specify a format.\n",
      "  acc_df['time_cleaned'] = pd.to_datetime(acc_df['time'].str.split(\"[\").str[0])\n",
      "/Users/aronsyversen/Desktop/REMOTES/CPET-pred/src/feature_extraction/extraction_functions.py:235: UserWarning: Could not infer format, so each element will be parsed individually, falling back to `dateutil`. To ensure parsing is consistent and as-expected, please specify a format.\n",
      "  acc_df['time_cleaned'] = pd.to_datetime(acc_df['time'].str.split(\"[\").str[0])\n"
     ]
    },
    {
     "name": "stdout",
     "output_type": "stream",
     "text": [
      "Trimmed 1 values\n",
      "Resting HR during sleep:72.55685483870968\n",
      "Time in MVPA: 9.877253577869247\n",
      "Starting patient R132\n",
      "Days: 3.022218981481481\n",
      "Trimmed 1 values\n",
      "Resting HR during sleep:97.2979902979903\n",
      "Time in MVPA: 0.0\n",
      "Starting patient R133\n",
      "Days: 2.8681444444444444\n"
     ]
    },
    {
     "name": "stderr",
     "output_type": "stream",
     "text": [
      "/Users/aronsyversen/Desktop/REMOTES/CPET-pred/src/feature_extraction/extraction_functions.py:235: UserWarning: Could not infer format, so each element will be parsed individually, falling back to `dateutil`. To ensure parsing is consistent and as-expected, please specify a format.\n",
      "  acc_df['time_cleaned'] = pd.to_datetime(acc_df['time'].str.split(\"[\").str[0])\n",
      "/Users/aronsyversen/Desktop/REMOTES/CPET-pred/src/feature_extraction/extraction_functions.py:235: UserWarning: Could not infer format, so each element will be parsed individually, falling back to `dateutil`. To ensure parsing is consistent and as-expected, please specify a format.\n",
      "  acc_df['time_cleaned'] = pd.to_datetime(acc_df['time'].str.split(\"[\").str[0])\n",
      "/Users/aronsyversen/Desktop/REMOTES/CPET-pred/src/feature_extraction/extraction_functions.py:235: UserWarning: Could not infer format, so each element will be parsed individually, falling back to `dateutil`. To ensure parsing is consistent and as-expected, please specify a format.\n",
      "  acc_df['time_cleaned'] = pd.to_datetime(acc_df['time'].str.split(\"[\").str[0])\n"
     ]
    },
    {
     "name": "stdout",
     "output_type": "stream",
     "text": [
      "Resting HR during sleep:81.1968121968122\n",
      "Time in MVPA: 5.0555333878272055\n",
      "Starting patient R134\n",
      "Days: 3.6428245370370367\n",
      "Trimmed 1 values\n",
      "Resting HR during sleep:69.9220401691332\n",
      "Time in MVPA: 22.78451766098778\n",
      "Starting patient R135\n",
      "Days: 3.0696152777777783\n",
      "Trimmed 1 values\n",
      "Resting HR during sleep:75.38636363636364\n",
      "Time in MVPA: 34.36912787206865\n",
      "Starting patient R136\n",
      "Days: 2.951076388888889\n",
      "Resting HR during sleep:69.48679638637942\n",
      "Time in MVPA: 6.777188172865362\n",
      "Starting patient R137\n",
      "Days: 3.662079629629629\n"
     ]
    },
    {
     "name": "stderr",
     "output_type": "stream",
     "text": [
      "/Users/aronsyversen/Desktop/REMOTES/CPET-pred/src/feature_extraction/extraction_functions.py:235: UserWarning: Could not infer format, so each element will be parsed individually, falling back to `dateutil`. To ensure parsing is consistent and as-expected, please specify a format.\n",
      "  acc_df['time_cleaned'] = pd.to_datetime(acc_df['time'].str.split(\"[\").str[0])\n",
      "/Users/aronsyversen/Desktop/REMOTES/CPET-pred/src/feature_extraction/extraction_functions.py:235: UserWarning: Could not infer format, so each element will be parsed individually, falling back to `dateutil`. To ensure parsing is consistent and as-expected, please specify a format.\n",
      "  acc_df['time_cleaned'] = pd.to_datetime(acc_df['time'].str.split(\"[\").str[0])\n",
      "/Users/aronsyversen/Desktop/REMOTES/CPET-pred/src/feature_extraction/extraction_functions.py:235: UserWarning: Could not infer format, so each element will be parsed individually, falling back to `dateutil`. To ensure parsing is consistent and as-expected, please specify a format.\n",
      "  acc_df['time_cleaned'] = pd.to_datetime(acc_df['time'].str.split(\"[\").str[0])\n"
     ]
    },
    {
     "name": "stdout",
     "output_type": "stream",
     "text": [
      "Resting HR during sleep:62.082813582813586\n",
      "Time in MVPA: 7.5093943281569935\n",
      "Starting patient R138\n",
      "Days: 3.0577745370370373\n",
      "Trimmed 1 values\n",
      "Resting HR during sleep:71.001386001386\n",
      "Time in MVPA: 2.9433170729196205\n",
      "Starting patient R139\n",
      "Days: 3.034074074074074\n"
     ]
    },
    {
     "name": "stderr",
     "output_type": "stream",
     "text": [
      "/Users/aronsyversen/Desktop/REMOTES/CPET-pred/src/feature_extraction/extraction_functions.py:235: UserWarning: Could not infer format, so each element will be parsed individually, falling back to `dateutil`. To ensure parsing is consistent and as-expected, please specify a format.\n",
      "  acc_df['time_cleaned'] = pd.to_datetime(acc_df['time'].str.split(\"[\").str[0])\n",
      "/Users/aronsyversen/Desktop/REMOTES/CPET-pred/src/feature_extraction/extraction_functions.py:235: UserWarning: Could not infer format, so each element will be parsed individually, falling back to `dateutil`. To ensure parsing is consistent and as-expected, please specify a format.\n",
      "  acc_df['time_cleaned'] = pd.to_datetime(acc_df['time'].str.split(\"[\").str[0])\n"
     ]
    },
    {
     "name": "stdout",
     "output_type": "stream",
     "text": [
      "Resting HR during sleep:65.31635481635482\n",
      "Time in MVPA: 14.17236328125\n",
      "Starting patient R140\n",
      "Days: 2.3228703703703704\n",
      "Resting HR during sleep:83.54469854469855\n",
      "Time in MVPA: 88.46813090445251\n",
      "Starting patient R141\n",
      "Days: 3.0103703703703704\n",
      "Trimmed 1 values\n"
     ]
    },
    {
     "name": "stderr",
     "output_type": "stream",
     "text": [
      "/Users/aronsyversen/Desktop/REMOTES/CPET-pred/src/feature_extraction/extraction_functions.py:235: UserWarning: Could not infer format, so each element will be parsed individually, falling back to `dateutil`. To ensure parsing is consistent and as-expected, please specify a format.\n",
      "  acc_df['time_cleaned'] = pd.to_datetime(acc_df['time'].str.split(\"[\").str[0])\n",
      "/Users/aronsyversen/Desktop/REMOTES/CPET-pred/src/feature_extraction/extraction_functions.py:235: UserWarning: Could not infer format, so each element will be parsed individually, falling back to `dateutil`. To ensure parsing is consistent and as-expected, please specify a format.\n",
      "  acc_df['time_cleaned'] = pd.to_datetime(acc_df['time'].str.split(\"[\").str[0])\n",
      "/Users/aronsyversen/Desktop/REMOTES/CPET-pred/src/feature_extraction/extraction_functions.py:235: UserWarning: Could not infer format, so each element will be parsed individually, falling back to `dateutil`. To ensure parsing is consistent and as-expected, please specify a format.\n",
      "  acc_df['time_cleaned'] = pd.to_datetime(acc_df['time'].str.split(\"[\").str[0])\n"
     ]
    },
    {
     "name": "stdout",
     "output_type": "stream",
     "text": [
      "Resting HR during sleep:65.43275862068965\n",
      "Time in MVPA: 1.328740157480315\n",
      "Starting patient R142\n",
      "Days: 3.1525925925925926\n",
      "Trimmed 1 values\n",
      "Resting HR during sleep:65.41544374563243\n",
      "Time in MVPA: 0.0\n",
      "Starting patient R143\n",
      "Days: 3.8618384259259266\n",
      "Resting HR during sleep:63.765116279069765\n",
      "Time in MVPA: 8.027264888112802\n",
      "Starting patient R144\n",
      "Days: 2.8387648148148146\n",
      "Trimmed 1 values\n",
      "Resting HR during sleep:70.89408099688474\n",
      "Time in MVPA: 4.227190620855576\n",
      "Starting patient R145\n",
      "Days: 2.9439296296296296\n",
      "Trimmed 1 values\n",
      "Resting HR during sleep:89.43145441892833\n",
      "Time in MVPA: 0.0\n",
      "Starting patient R146\n",
      "Days: 2.4955412037037035\n"
     ]
    },
    {
     "name": "stderr",
     "output_type": "stream",
     "text": [
      "/Users/aronsyversen/Desktop/REMOTES/CPET-pred/src/feature_extraction/extraction_functions.py:235: UserWarning: Could not infer format, so each element will be parsed individually, falling back to `dateutil`. To ensure parsing is consistent and as-expected, please specify a format.\n",
      "  acc_df['time_cleaned'] = pd.to_datetime(acc_df['time'].str.split(\"[\").str[0])\n",
      "/Users/aronsyversen/Desktop/REMOTES/CPET-pred/src/feature_extraction/extraction_functions.py:235: UserWarning: Could not infer format, so each element will be parsed individually, falling back to `dateutil`. To ensure parsing is consistent and as-expected, please specify a format.\n",
      "  acc_df['time_cleaned'] = pd.to_datetime(acc_df['time'].str.split(\"[\").str[0])\n",
      "/Users/aronsyversen/Desktop/REMOTES/CPET-pred/src/feature_extraction/extraction_functions.py:235: UserWarning: Could not infer format, so each element will be parsed individually, falling back to `dateutil`. To ensure parsing is consistent and as-expected, please specify a format.\n",
      "  acc_df['time_cleaned'] = pd.to_datetime(acc_df['time'].str.split(\"[\").str[0])\n"
     ]
    },
    {
     "name": "stdout",
     "output_type": "stream",
     "text": [
      "Trimmed 1 values\n",
      "Resting HR during sleep:63.56244384546272\n",
      "Time in MVPA: 10.819296415514412\n",
      "Starting patient R147\n",
      "Days: 2.992387500000001\n",
      "Trimmed 1 values\n",
      "Resting HR during sleep:72.76237623762377\n",
      "Time in MVPA: 54.47155490390197\n",
      "Starting patient R148\n",
      "Days: 2.7268949074074076\n",
      "Resting HR during sleep:71.74824684431978\n",
      "Time in MVPA: 59.22487132206571\n",
      "Starting patient R149\n",
      "Days: 2.979671296296296\n"
     ]
    },
    {
     "name": "stderr",
     "output_type": "stream",
     "text": [
      "/Users/aronsyversen/Desktop/REMOTES/CPET-pred/src/feature_extraction/extraction_functions.py:235: UserWarning: Could not infer format, so each element will be parsed individually, falling back to `dateutil`. To ensure parsing is consistent and as-expected, please specify a format.\n",
      "  acc_df['time_cleaned'] = pd.to_datetime(acc_df['time'].str.split(\"[\").str[0])\n",
      "/Users/aronsyversen/Desktop/REMOTES/CPET-pred/src/feature_extraction/extraction_functions.py:235: UserWarning: Could not infer format, so each element will be parsed individually, falling back to `dateutil`. To ensure parsing is consistent and as-expected, please specify a format.\n",
      "  acc_df['time_cleaned'] = pd.to_datetime(acc_df['time'].str.split(\"[\").str[0])\n",
      "/Users/aronsyversen/Desktop/REMOTES/CPET-pred/src/feature_extraction/extraction_functions.py:235: UserWarning: Could not infer format, so each element will be parsed individually, falling back to `dateutil`. To ensure parsing is consistent and as-expected, please specify a format.\n",
      "  acc_df['time_cleaned'] = pd.to_datetime(acc_df['time'].str.split(\"[\").str[0])\n",
      "/Users/aronsyversen/Desktop/REMOTES/CPET-pred/src/feature_extraction/extraction_functions.py:235: UserWarning: Could not infer format, so each element will be parsed individually, falling back to `dateutil`. To ensure parsing is consistent and as-expected, please specify a format.\n",
      "  acc_df['time_cleaned'] = pd.to_datetime(acc_df['time'].str.split(\"[\").str[0])\n"
     ]
    },
    {
     "name": "stdout",
     "output_type": "stream",
     "text": [
      "Resting HR during sleep:81.25888324873097\n",
      "Time in MVPA: 52.52257193420229\n",
      "Starting patient R150\n",
      "Days: 2.951111111111111\n",
      "Resting HR during sleep:63.22289156626506\n",
      "Time in MVPA: 12.53765060240964\n",
      "Starting patient R151\n",
      "Days: 3.057777777777778\n",
      "Trimmed 1 values\n"
     ]
    },
    {
     "name": "stderr",
     "output_type": "stream",
     "text": [
      "/Users/aronsyversen/Desktop/REMOTES/CPET-pred/src/feature_extraction/extraction_functions.py:235: UserWarning: Could not infer format, so each element will be parsed individually, falling back to `dateutil`. To ensure parsing is consistent and as-expected, please specify a format.\n",
      "  acc_df['time_cleaned'] = pd.to_datetime(acc_df['time'].str.split(\"[\").str[0])\n",
      "/Users/aronsyversen/Desktop/REMOTES/CPET-pred/src/feature_extraction/extraction_functions.py:235: UserWarning: Could not infer format, so each element will be parsed individually, falling back to `dateutil`. To ensure parsing is consistent and as-expected, please specify a format.\n",
      "  acc_df['time_cleaned'] = pd.to_datetime(acc_df['time'].str.split(\"[\").str[0])\n",
      "/Users/aronsyversen/Desktop/REMOTES/CPET-pred/src/feature_extraction/extraction_functions.py:235: UserWarning: Could not infer format, so each element will be parsed individually, falling back to `dateutil`. To ensure parsing is consistent and as-expected, please specify a format.\n",
      "  acc_df['time_cleaned'] = pd.to_datetime(acc_df['time'].str.split(\"[\").str[0])\n",
      "/Users/aronsyversen/Desktop/REMOTES/CPET-pred/src/feature_extraction/extraction_functions.py:235: UserWarning: Could not infer format, so each element will be parsed individually, falling back to `dateutil`. To ensure parsing is consistent and as-expected, please specify a format.\n",
      "  acc_df['time_cleaned'] = pd.to_datetime(acc_df['time'].str.split(\"[\").str[0])\n"
     ]
    },
    {
     "name": "stdout",
     "output_type": "stream",
     "text": [
      "Resting HR during sleep:63.40792216817234\n",
      "Time in MVPA: 28.615552325581394\n",
      "Starting patient R152\n",
      "Days: 2.9274074074074075\n",
      "Trimmed 1 values\n",
      "Resting HR during sleep:77.21669477234401\n",
      "Time in MVPA: 4.782388663967612\n",
      "Starting patient R153\n",
      "Days: 3.128839351851852\n",
      "Resting HR during sleep:69.09780966767372\n",
      "Time in MVPA: 15.980366639919282\n",
      "Starting patient R154\n",
      "Days: 2.9392523148148153\n",
      "Resting HR during sleep:80.9327229299363\n",
      "Time in MVPA: 6.464228982395843\n",
      "Starting patient R155\n",
      "Days: 3.36099537037037\n",
      "Trimmed 1 values\n",
      "Resting HR during sleep:62.90802919708029\n",
      "Time in MVPA: 9.967285374840733\n",
      "Starting patient R156\n",
      "Days: 3.057777777777778\n",
      "Trimmed 1 values\n",
      "Resting HR during sleep:74.34248310810811\n",
      "Time in MVPA: 24.527616279069765\n",
      "Starting patient R157\n",
      "Days: 4.728362037037036\n"
     ]
    },
    {
     "name": "stderr",
     "output_type": "stream",
     "text": [
      "/Users/aronsyversen/Desktop/REMOTES/CPET-pred/src/feature_extraction/extraction_functions.py:235: UserWarning: Could not infer format, so each element will be parsed individually, falling back to `dateutil`. To ensure parsing is consistent and as-expected, please specify a format.\n",
      "  acc_df['time_cleaned'] = pd.to_datetime(acc_df['time'].str.split(\"[\").str[0])\n",
      "/Users/aronsyversen/Desktop/REMOTES/CPET-pred/src/feature_extraction/extraction_functions.py:235: UserWarning: Could not infer format, so each element will be parsed individually, falling back to `dateutil`. To ensure parsing is consistent and as-expected, please specify a format.\n",
      "  acc_df['time_cleaned'] = pd.to_datetime(acc_df['time'].str.split(\"[\").str[0])\n",
      "/Users/aronsyversen/Desktop/REMOTES/CPET-pred/src/feature_extraction/extraction_functions.py:235: UserWarning: Could not infer format, so each element will be parsed individually, falling back to `dateutil`. To ensure parsing is consistent and as-expected, please specify a format.\n",
      "  acc_df['time_cleaned'] = pd.to_datetime(acc_df['time'].str.split(\"[\").str[0])\n",
      "/Users/aronsyversen/Desktop/REMOTES/CPET-pred/src/feature_extraction/extraction_functions.py:235: UserWarning: Could not infer format, so each element will be parsed individually, falling back to `dateutil`. To ensure parsing is consistent and as-expected, please specify a format.\n",
      "  acc_df['time_cleaned'] = pd.to_datetime(acc_df['time'].str.split(\"[\").str[0])\n",
      "/Users/aronsyversen/Desktop/REMOTES/CPET-pred/src/feature_extraction/extraction_functions.py:235: UserWarning: Could not infer format, so each element will be parsed individually, falling back to `dateutil`. To ensure parsing is consistent and as-expected, please specify a format.\n",
      "  acc_df['time_cleaned'] = pd.to_datetime(acc_df['time'].str.split(\"[\").str[0])\n",
      "/Users/aronsyversen/Desktop/REMOTES/CPET-pred/src/feature_extraction/extraction_functions.py:235: UserWarning: Could not infer format, so each element will be parsed individually, falling back to `dateutil`. To ensure parsing is consistent and as-expected, please specify a format.\n",
      "  acc_df['time_cleaned'] = pd.to_datetime(acc_df['time'].str.split(\"[\").str[0])\n"
     ]
    },
    {
     "name": "stdout",
     "output_type": "stream",
     "text": [
      "Resting HR during sleep:76.46040126715945\n",
      "Time in MVPA: 0.0\n",
      "Starting patient R158\n",
      "Days: 3.0696296296296297\n",
      "Trimmed 1 values\n",
      "Resting HR during sleep:64.77018413597733\n",
      "Time in MVPA: 37.300916988416986\n",
      "Starting patient R159\n",
      "Days: 1.1305962962962963\n",
      "Trimmed 1 values\n",
      "Resting HR during sleep:78.7195652173913\n",
      "Time in MVPA: 7.075912088344072\n",
      "Starting patient R160\n",
      "Days: 2.9391171296296292\n",
      "Resting HR during sleep:85.82815964523282\n",
      "Time in MVPA: 0.0\n",
      "Starting patient R161\n",
      "Days: 3.045925925925926\n"
     ]
    },
    {
     "name": "stderr",
     "output_type": "stream",
     "text": [
      "/Users/aronsyversen/Desktop/REMOTES/CPET-pred/src/feature_extraction/extraction_functions.py:235: UserWarning: Could not infer format, so each element will be parsed individually, falling back to `dateutil`. To ensure parsing is consistent and as-expected, please specify a format.\n",
      "  acc_df['time_cleaned'] = pd.to_datetime(acc_df['time'].str.split(\"[\").str[0])\n",
      "/Users/aronsyversen/Desktop/REMOTES/CPET-pred/src/feature_extraction/extraction_functions.py:235: UserWarning: Could not infer format, so each element will be parsed individually, falling back to `dateutil`. To ensure parsing is consistent and as-expected, please specify a format.\n",
      "  acc_df['time_cleaned'] = pd.to_datetime(acc_df['time'].str.split(\"[\").str[0])\n",
      "/Users/aronsyversen/Desktop/REMOTES/CPET-pred/src/feature_extraction/extraction_functions.py:235: UserWarning: Could not infer format, so each element will be parsed individually, falling back to `dateutil`. To ensure parsing is consistent and as-expected, please specify a format.\n",
      "  acc_df['time_cleaned'] = pd.to_datetime(acc_df['time'].str.split(\"[\").str[0])\n",
      "/Users/aronsyversen/Desktop/REMOTES/CPET-pred/src/feature_extraction/extraction_functions.py:235: UserWarning: Could not infer format, so each element will be parsed individually, falling back to `dateutil`. To ensure parsing is consistent and as-expected, please specify a format.\n",
      "  acc_df['time_cleaned'] = pd.to_datetime(acc_df['time'].str.split(\"[\").str[0])\n"
     ]
    },
    {
     "name": "stdout",
     "output_type": "stream",
     "text": [
      "Resting HR during sleep:75.74691805656272\n",
      "Time in MVPA: 0.0\n",
      "Starting patient R162\n",
      "Days: 0.9578449074074072\n",
      "Trimmed 1 values\n",
      "Resting HR during sleep:88.07537154989384\n",
      "Time in MVPA: 0.0\n",
      "Starting patient R163\n",
      "Days: 2.7285162037037036\n",
      "Resting HR during sleep:66.48247978436657\n",
      "Time in MVPA: 2.565496950503046\n",
      "Starting patient R164\n",
      "Days: 3.0103703703703704\n",
      "Trimmed 1 values\n",
      "Resting HR during sleep:67.22234678624814\n",
      "Time in MVPA: 28.73400590551181\n",
      "Starting patient R165\n",
      "Days: 3.6977708333333332\n",
      "Trimmed 1 values\n",
      "Resting HR during sleep:69.55843137254902\n",
      "Time in MVPA: 3.5156316023730514\n",
      "Starting patient R166\n",
      "Days: 3.6739814814814817\n",
      "Trimmed 1 values\n",
      "Resting HR during sleep:73.41872197309416\n",
      "Time in MVPA: 24.768769374228178\n",
      "Starting patient R167\n",
      "Days: 3.211851851851852\n",
      "Resting HR during sleep:74.66714593817397\n",
      "Time in MVPA: 2.023754612546125\n",
      "Starting patient R168\n",
      "Days: 3.2861569444444445\n"
     ]
    },
    {
     "name": "stderr",
     "output_type": "stream",
     "text": [
      "/Users/aronsyversen/Desktop/REMOTES/CPET-pred/src/feature_extraction/extraction_functions.py:235: UserWarning: Could not infer format, so each element will be parsed individually, falling back to `dateutil`. To ensure parsing is consistent and as-expected, please specify a format.\n",
      "  acc_df['time_cleaned'] = pd.to_datetime(acc_df['time'].str.split(\"[\").str[0])\n",
      "/Users/aronsyversen/Desktop/REMOTES/CPET-pred/src/feature_extraction/extraction_functions.py:235: UserWarning: Could not infer format, so each element will be parsed individually, falling back to `dateutil`. To ensure parsing is consistent and as-expected, please specify a format.\n",
      "  acc_df['time_cleaned'] = pd.to_datetime(acc_df['time'].str.split(\"[\").str[0])\n",
      "/Users/aronsyversen/Desktop/REMOTES/CPET-pred/src/feature_extraction/extraction_functions.py:235: UserWarning: Could not infer format, so each element will be parsed individually, falling back to `dateutil`. To ensure parsing is consistent and as-expected, please specify a format.\n",
      "  acc_df['time_cleaned'] = pd.to_datetime(acc_df['time'].str.split(\"[\").str[0])\n"
     ]
    },
    {
     "name": "stdout",
     "output_type": "stream",
     "text": [
      "Trimmed 1 values\n",
      "Resting HR during sleep:63.27840112201964\n",
      "Time in MVPA: 46.71109828138491\n",
      "Starting patient R169\n",
      "Days: 3.0103671296296297\n",
      "Trimmed 1 values\n",
      "Resting HR during sleep:61.085313174946\n",
      "Time in MVPA: 2.3252977788331157\n",
      "Starting patient R170\n",
      "Days: 3.0696296296296297\n",
      "Trimmed 1 values\n"
     ]
    },
    {
     "name": "stderr",
     "output_type": "stream",
     "text": [
      "/Users/aronsyversen/Desktop/REMOTES/CPET-pred/src/feature_extraction/extraction_functions.py:235: UserWarning: Could not infer format, so each element will be parsed individually, falling back to `dateutil`. To ensure parsing is consistent and as-expected, please specify a format.\n",
      "  acc_df['time_cleaned'] = pd.to_datetime(acc_df['time'].str.split(\"[\").str[0])\n",
      "/Users/aronsyversen/Desktop/REMOTES/CPET-pred/src/feature_extraction/extraction_functions.py:235: UserWarning: Could not infer format, so each element will be parsed individually, falling back to `dateutil`. To ensure parsing is consistent and as-expected, please specify a format.\n",
      "  acc_df['time_cleaned'] = pd.to_datetime(acc_df['time'].str.split(\"[\").str[0])\n",
      "/Users/aronsyversen/Desktop/REMOTES/CPET-pred/src/feature_extraction/extraction_functions.py:235: UserWarning: Could not infer format, so each element will be parsed individually, falling back to `dateutil`. To ensure parsing is consistent and as-expected, please specify a format.\n",
      "  acc_df['time_cleaned'] = pd.to_datetime(acc_df['time'].str.split(\"[\").str[0])\n"
     ]
    },
    {
     "name": "stdout",
     "output_type": "stream",
     "text": [
      "Resting HR during sleep:87.09142114384748\n",
      "Time in MVPA: 24.270028957528957\n",
      "Starting patient R171\n",
      "Days: 2.951111111111111\n",
      "Resting HR during sleep:66.43619972260748\n",
      "Time in MVPA: 72.51506024096386\n",
      "Starting patient R172\n",
      "Days: 2.4414814814814814\n",
      "Trimmed 1 values\n",
      "Resting HR during sleep:64.37414965986395\n",
      "Time in MVPA: 7.167779126213593\n",
      "Starting patient R173\n",
      "Days: 2.986666666666667\n"
     ]
    },
    {
     "name": "stderr",
     "output_type": "stream",
     "text": [
      "/Users/aronsyversen/Desktop/REMOTES/CPET-pred/src/feature_extraction/extraction_functions.py:235: UserWarning: Could not infer format, so each element will be parsed individually, falling back to `dateutil`. To ensure parsing is consistent and as-expected, please specify a format.\n",
      "  acc_df['time_cleaned'] = pd.to_datetime(acc_df['time'].str.split(\"[\").str[0])\n",
      "/Users/aronsyversen/Desktop/REMOTES/CPET-pred/src/feature_extraction/extraction_functions.py:235: UserWarning: Could not infer format, so each element will be parsed individually, falling back to `dateutil`. To ensure parsing is consistent and as-expected, please specify a format.\n",
      "  acc_df['time_cleaned'] = pd.to_datetime(acc_df['time'].str.split(\"[\").str[0])\n",
      "/Users/aronsyversen/Desktop/REMOTES/CPET-pred/src/feature_extraction/extraction_functions.py:235: UserWarning: Could not infer format, so each element will be parsed individually, falling back to `dateutil`. To ensure parsing is consistent and as-expected, please specify a format.\n",
      "  acc_df['time_cleaned'] = pd.to_datetime(acc_df['time'].str.split(\"[\").str[0])\n"
     ]
    },
    {
     "name": "stdout",
     "output_type": "stream",
     "text": [
      "Trimmed 1 values\n",
      "Resting HR during sleep:60.917186417186414\n",
      "Time in MVPA: 76.67410714285714\n",
      "Starting patient R174\n",
      "Days: 2.8372907407407406\n",
      "Trimmed 1 values\n",
      "Resting HR during sleep:67.83100233100232\n",
      "Time in MVPA: 18.679791689646553\n",
      "Starting patient R175\n",
      "Days: 1.3532694444444442\n",
      "Trimmed 1 values\n"
     ]
    },
    {
     "name": "stderr",
     "output_type": "stream",
     "text": [
      "/Users/aronsyversen/Desktop/REMOTES/CPET-pred/src/feature_extraction/extraction_functions.py:235: UserWarning: Could not infer format, so each element will be parsed individually, falling back to `dateutil`. To ensure parsing is consistent and as-expected, please specify a format.\n",
      "  acc_df['time_cleaned'] = pd.to_datetime(acc_df['time'].str.split(\"[\").str[0])\n",
      "/Users/aronsyversen/Desktop/REMOTES/CPET-pred/src/feature_extraction/extraction_functions.py:235: UserWarning: Could not infer format, so each element will be parsed individually, falling back to `dateutil`. To ensure parsing is consistent and as-expected, please specify a format.\n",
      "  acc_df['time_cleaned'] = pd.to_datetime(acc_df['time'].str.split(\"[\").str[0])\n",
      "/Users/aronsyversen/Desktop/REMOTES/CPET-pred/src/feature_extraction/extraction_functions.py:235: UserWarning: Could not infer format, so each element will be parsed individually, falling back to `dateutil`. To ensure parsing is consistent and as-expected, please specify a format.\n",
      "  acc_df['time_cleaned'] = pd.to_datetime(acc_df['time'].str.split(\"[\").str[0])\n"
     ]
    },
    {
     "name": "stdout",
     "output_type": "stream",
     "text": [
      "Resting HR during sleep:82.57615894039735\n",
      "Time in MVPA: 0.0\n",
      "Starting patient R176\n",
      "Days: 3.057777777777778\n",
      "Trimmed 1 values\n",
      "Resting HR during sleep:61.15217391304348\n",
      "Time in MVPA: 18.640988372093023\n",
      "Starting patient R177\n",
      "Days: 2.916395833333333\n",
      "Trimmed 1 values\n",
      "Resting HR during sleep:88.92862092862093\n",
      "Time in MVPA: 41.31812239707973\n",
      "Starting patient R178\n",
      "Days: 2.998518518518518\n"
     ]
    },
    {
     "name": "stderr",
     "output_type": "stream",
     "text": [
      "/Users/aronsyversen/Desktop/REMOTES/CPET-pred/src/feature_extraction/extraction_functions.py:235: UserWarning: Could not infer format, so each element will be parsed individually, falling back to `dateutil`. To ensure parsing is consistent and as-expected, please specify a format.\n",
      "  acc_df['time_cleaned'] = pd.to_datetime(acc_df['time'].str.split(\"[\").str[0])\n",
      "/Users/aronsyversen/Desktop/REMOTES/CPET-pred/src/feature_extraction/extraction_functions.py:235: UserWarning: Could not infer format, so each element will be parsed individually, falling back to `dateutil`. To ensure parsing is consistent and as-expected, please specify a format.\n",
      "  acc_df['time_cleaned'] = pd.to_datetime(acc_df['time'].str.split(\"[\").str[0])\n",
      "/Users/aronsyversen/Desktop/REMOTES/CPET-pred/src/feature_extraction/extraction_functions.py:235: UserWarning: Could not infer format, so each element will be parsed individually, falling back to `dateutil`. To ensure parsing is consistent and as-expected, please specify a format.\n",
      "  acc_df['time_cleaned'] = pd.to_datetime(acc_df['time'].str.split(\"[\").str[0])\n"
     ]
    },
    {
     "name": "stdout",
     "output_type": "stream",
     "text": [
      "Trimmed 1 values\n",
      "Resting HR during sleep:58.94616977225673\n",
      "Time in MVPA: 73.20281620553361\n",
      "Starting patient R179\n",
      "Days: 2.7790208333333335\n",
      "Trimmed 1 values\n",
      "Resting HR during sleep:78.85185185185185\n",
      "Time in MVPA: 14.033719910340121\n",
      "Starting patient R180\n",
      "Days: 2.955781481481481\n",
      "Trimmed 1 values\n",
      "Resting HR during sleep:68.64583333333333\n",
      "Time in MVPA: 38.23016035115111\n",
      "Starting patient R181\n",
      "Days: 3.045925925925926\n"
     ]
    },
    {
     "name": "stderr",
     "output_type": "stream",
     "text": [
      "/Users/aronsyversen/Desktop/REMOTES/CPET-pred/src/feature_extraction/extraction_functions.py:235: UserWarning: Could not infer format, so each element will be parsed individually, falling back to `dateutil`. To ensure parsing is consistent and as-expected, please specify a format.\n",
      "  acc_df['time_cleaned'] = pd.to_datetime(acc_df['time'].str.split(\"[\").str[0])\n",
      "/Users/aronsyversen/Desktop/REMOTES/CPET-pred/src/feature_extraction/extraction_functions.py:235: UserWarning: Could not infer format, so each element will be parsed individually, falling back to `dateutil`. To ensure parsing is consistent and as-expected, please specify a format.\n",
      "  acc_df['time_cleaned'] = pd.to_datetime(acc_df['time'].str.split(\"[\").str[0])\n",
      "/Users/aronsyversen/Desktop/REMOTES/CPET-pred/src/feature_extraction/extraction_functions.py:235: UserWarning: Could not infer format, so each element will be parsed individually, falling back to `dateutil`. To ensure parsing is consistent and as-expected, please specify a format.\n",
      "  acc_df['time_cleaned'] = pd.to_datetime(acc_df['time'].str.split(\"[\").str[0])\n"
     ]
    },
    {
     "name": "stdout",
     "output_type": "stream",
     "text": [
      "Resting HR during sleep:69.33928571428571\n",
      "Time in MVPA: 13.624756809338521\n",
      "Starting patient R182\n",
      "Days: 1.8014814814814815\n",
      "Resting HR during sleep:64.85376756066411\n",
      "Time in MVPA: 6.938733552631579\n",
      "Starting patient R183\n",
      "Days: 1.176148148148148\n",
      "Resting HR during sleep:77.62474012474013\n",
      "Time in MVPA: 590.4868371331403\n",
      "Starting patient R184\n",
      "Days: 3.093323148148148\n",
      "Trimmed 1 values\n"
     ]
    },
    {
     "name": "stderr",
     "output_type": "stream",
     "text": [
      "/Users/aronsyversen/Desktop/REMOTES/CPET-pred/src/feature_extraction/extraction_functions.py:235: UserWarning: Could not infer format, so each element will be parsed individually, falling back to `dateutil`. To ensure parsing is consistent and as-expected, please specify a format.\n",
      "  acc_df['time_cleaned'] = pd.to_datetime(acc_df['time'].str.split(\"[\").str[0])\n",
      "/Users/aronsyversen/Desktop/REMOTES/CPET-pred/src/feature_extraction/extraction_functions.py:235: UserWarning: Could not infer format, so each element will be parsed individually, falling back to `dateutil`. To ensure parsing is consistent and as-expected, please specify a format.\n",
      "  acc_df['time_cleaned'] = pd.to_datetime(acc_df['time'].str.split(\"[\").str[0])\n",
      "/Users/aronsyversen/Desktop/REMOTES/CPET-pred/src/feature_extraction/extraction_functions.py:235: UserWarning: Could not infer format, so each element will be parsed individually, falling back to `dateutil`. To ensure parsing is consistent and as-expected, please specify a format.\n",
      "  acc_df['time_cleaned'] = pd.to_datetime(acc_df['time'].str.split(\"[\").str[0])\n",
      "/Users/aronsyversen/Desktop/REMOTES/CPET-pred/src/feature_extraction/extraction_functions.py:235: UserWarning: Could not infer format, so each element will be parsed individually, falling back to `dateutil`. To ensure parsing is consistent and as-expected, please specify a format.\n",
      "  acc_df['time_cleaned'] = pd.to_datetime(acc_df['time'].str.split(\"[\").str[0])\n"
     ]
    },
    {
     "name": "stdout",
     "output_type": "stream",
     "text": [
      "Resting HR during sleep:58.20049330514447\n",
      "Time in MVPA: 0.0\n",
      "Starting patient R185\n",
      "Days: 2.868148148148148\n",
      "Resting HR during sleep:81.47232337946103\n",
      "Time in MVPA: 6.798811983471074\n",
      "Starting patient R186\n",
      "Days: 3.353981481481482\n",
      "Trimmed 1 values\n",
      "Resting HR during sleep:74.83843137254902\n",
      "Time in MVPA: 11.031664964249233\n",
      "Starting patient R187\n",
      "Days: 2.901046759259259\n",
      "Trimmed 1 values\n",
      "Resting HR during sleep:65.65777777777778\n",
      "Time in MVPA: 11.892259195714958\n",
      "Starting patient R188\n",
      "Days: 3.044769907407407\n",
      "Resting HR during sleep:77.74809885931559\n",
      "Time in MVPA: 17.078466216278887\n",
      "Starting patient R189\n",
      "Days: 3.057777777777778\n",
      "Trimmed 1 values\n"
     ]
    },
    {
     "name": "stderr",
     "output_type": "stream",
     "text": [
      "/Users/aronsyversen/Desktop/REMOTES/CPET-pred/src/feature_extraction/extraction_functions.py:235: UserWarning: Could not infer format, so each element will be parsed individually, falling back to `dateutil`. To ensure parsing is consistent and as-expected, please specify a format.\n",
      "  acc_df['time_cleaned'] = pd.to_datetime(acc_df['time'].str.split(\"[\").str[0])\n",
      "/Users/aronsyversen/Desktop/REMOTES/CPET-pred/src/feature_extraction/extraction_functions.py:235: UserWarning: Could not infer format, so each element will be parsed individually, falling back to `dateutil`. To ensure parsing is consistent and as-expected, please specify a format.\n",
      "  acc_df['time_cleaned'] = pd.to_datetime(acc_df['time'].str.split(\"[\").str[0])\n",
      "/Users/aronsyversen/Desktop/REMOTES/CPET-pred/src/feature_extraction/extraction_functions.py:235: UserWarning: Could not infer format, so each element will be parsed individually, falling back to `dateutil`. To ensure parsing is consistent and as-expected, please specify a format.\n",
      "  acc_df['time_cleaned'] = pd.to_datetime(acc_df['time'].str.split(\"[\").str[0])\n"
     ]
    },
    {
     "name": "stdout",
     "output_type": "stream",
     "text": [
      "Resting HR during sleep:76.79892555640829\n",
      "Time in MVPA: 7.68531976744186\n",
      "Starting patient R190\n",
      "Days: 3.010363425925926\n",
      "Trimmed 1 values\n",
      "Resting HR during sleep:68.47084421235857\n",
      "Time in MVPA: 7.972459336074379\n",
      "Starting patient R191\n",
      "Days: 3.6194333333333333\n",
      "Trimmed 1 values\n",
      "Resting HR during sleep:67.30204081632652\n",
      "Time in MVPA: 0.6907158579151432\n",
      "Starting patient R192\n",
      "Days: 3.851619444444444\n"
     ]
    },
    {
     "name": "stderr",
     "output_type": "stream",
     "text": [
      "/Users/aronsyversen/Desktop/REMOTES/CPET-pred/src/feature_extraction/extraction_functions.py:235: UserWarning: Could not infer format, so each element will be parsed individually, falling back to `dateutil`. To ensure parsing is consistent and as-expected, please specify a format.\n",
      "  acc_df['time_cleaned'] = pd.to_datetime(acc_df['time'].str.split(\"[\").str[0])\n",
      "/Users/aronsyversen/Desktop/REMOTES/CPET-pred/src/feature_extraction/extraction_functions.py:235: UserWarning: Could not infer format, so each element will be parsed individually, falling back to `dateutil`. To ensure parsing is consistent and as-expected, please specify a format.\n",
      "  acc_df['time_cleaned'] = pd.to_datetime(acc_df['time'].str.split(\"[\").str[0])\n",
      "/Users/aronsyversen/Desktop/REMOTES/CPET-pred/src/feature_extraction/extraction_functions.py:235: UserWarning: Could not infer format, so each element will be parsed individually, falling back to `dateutil`. To ensure parsing is consistent and as-expected, please specify a format.\n",
      "  acc_df['time_cleaned'] = pd.to_datetime(acc_df['time'].str.split(\"[\").str[0])\n"
     ]
    },
    {
     "name": "stdout",
     "output_type": "stream",
     "text": [
      "Trimmed 1 values\n",
      "Resting HR during sleep:68.38555030384875\n",
      "Time in MVPA: 26.482367085129418\n",
      "Starting patient R193\n",
      "Days: 3.081481481481481\n",
      "Trimmed 1 values\n",
      "Resting HR during sleep:62.545505617977526\n",
      "Time in MVPA: 2.1093750000000004\n",
      "Starting patient R194\n",
      "Days: 3.045043981481482\n",
      "Resting HR during sleep:78.63376932223544\n",
      "Time in MVPA: 32.01924195280886\n",
      "Starting patient R195\n",
      "Days: 3.0103703703703704\n",
      "Trimmed 1 values\n"
     ]
    },
    {
     "name": "stderr",
     "output_type": "stream",
     "text": [
      "/Users/aronsyversen/Desktop/REMOTES/CPET-pred/src/feature_extraction/extraction_functions.py:235: UserWarning: Could not infer format, so each element will be parsed individually, falling back to `dateutil`. To ensure parsing is consistent and as-expected, please specify a format.\n",
      "  acc_df['time_cleaned'] = pd.to_datetime(acc_df['time'].str.split(\"[\").str[0])\n",
      "/Users/aronsyversen/Desktop/REMOTES/CPET-pred/src/feature_extraction/extraction_functions.py:235: UserWarning: Could not infer format, so each element will be parsed individually, falling back to `dateutil`. To ensure parsing is consistent and as-expected, please specify a format.\n",
      "  acc_df['time_cleaned'] = pd.to_datetime(acc_df['time'].str.split(\"[\").str[0])\n",
      "/Users/aronsyversen/Desktop/REMOTES/CPET-pred/src/feature_extraction/extraction_functions.py:235: UserWarning: Could not infer format, so each element will be parsed individually, falling back to `dateutil`. To ensure parsing is consistent and as-expected, please specify a format.\n",
      "  acc_df['time_cleaned'] = pd.to_datetime(acc_df['time'].str.split(\"[\").str[0])\n"
     ]
    },
    {
     "name": "stdout",
     "output_type": "stream",
     "text": [
      "Resting HR during sleep:68.99583622484386\n",
      "Time in MVPA: 8.470718503937007\n",
      "Starting patient R196\n",
      "Days: 3.057777777777778\n",
      "Trimmed 1 values\n",
      "Resting HR during sleep:64.99224259520452\n",
      "Time in MVPA: 0.0\n",
      "Starting patient R197\n",
      "Days: 3.034074074074074\n",
      "Resting HR during sleep:67.12127512127512\n",
      "Time in MVPA: 39.88037109375\n",
      "Starting patient R198\n",
      "Days: 2.986666666666667\n",
      "Trimmed 1 values\n",
      "Resting HR during sleep:74.25898617511521\n",
      "Time in MVPA: 26.953125\n"
     ]
    },
    {
     "name": "stderr",
     "output_type": "stream",
     "text": [
      "/Users/aronsyversen/Desktop/REMOTES/CPET-pred/src/feature_extraction/extraction_functions.py:235: UserWarning: Could not infer format, so each element will be parsed individually, falling back to `dateutil`. To ensure parsing is consistent and as-expected, please specify a format.\n",
      "  acc_df['time_cleaned'] = pd.to_datetime(acc_df['time'].str.split(\"[\").str[0])\n",
      "/Users/aronsyversen/Desktop/REMOTES/CPET-pred/src/feature_extraction/extraction_functions.py:235: UserWarning: Could not infer format, so each element will be parsed individually, falling back to `dateutil`. To ensure parsing is consistent and as-expected, please specify a format.\n",
      "  acc_df['time_cleaned'] = pd.to_datetime(acc_df['time'].str.split(\"[\").str[0])\n",
      "/Users/aronsyversen/Desktop/REMOTES/CPET-pred/src/feature_extraction/extraction_functions.py:235: UserWarning: Could not infer format, so each element will be parsed individually, falling back to `dateutil`. To ensure parsing is consistent and as-expected, please specify a format.\n",
      "  acc_df['time_cleaned'] = pd.to_datetime(acc_df['time'].str.split(\"[\").str[0])\n"
     ]
    }
   ],
   "source": [
    "#add several emtpy new columns to the df to add values to\n",
    "df['Resting HR'] = np.nan\n",
    "df['Max HR'] = np.nan\n",
    "df['Min HR'] = np.nan\n",
    "df['Time in MVPA'] = np.nan\n",
    "df['Time in LPA'] = np.nan\n",
    "df['Time in SB'] = np.nan\n",
    "df['MVPA HR'] = np.nan\n",
    "df['LPA HR'] = np.nan\n",
    "df['SB HR'] = np.nan\n",
    "\n",
    "\n",
    "# Load the data\n",
    "print('starting_loop')\n",
    "for index, row in df.iterrows():\n",
    "    patient_id = row['Patient ID']\n",
    "    file_name = df[df['Patient ID'] == patient_id]['file_name'].values[0]\n",
    "    start_time = df[df['Patient ID'] == patient_id]['Start'].values[0]\n",
    "    print(f'Starting patient {patient_id}')\n",
    "\n",
    "    #get the good qual wear time from the column good_wear_hrs and find this in days \n",
    "    good_wear_hrs = df[df['Patient ID'] == patient_id]['Hours of data collected'].values[0]\n",
    "    days = good_wear_hrs / 24\n",
    "    print(f'Days: {days}')\n",
    "\n",
    "    # Load the HR data\n",
    "    file = f'{path}/hr_values/{patient_id}.npy'\n",
    "    hr_values = np.load(file)\n",
    "\n",
    "    #open the activity classification file\n",
    "    file = f'{path}/activity_class/{patient_id}_combined-timeSeries.csv.gz'\n",
    "    acc_df = pd.read_csv(file, compression='gzip')\n",
    "\n",
    "    #upsample to hr data to match the length of the activity classification data\n",
    "    hr_30s_values = average_hr_30s(hr_values)\n",
    "\n",
    "    # Align HR and accelerometer data\n",
    "    acc_df = align_hr_and_acc(hr_30s_values, acc_df)\n",
    "\n",
    "    # Extract sleep data\n",
    "    sleep_df = extract_sleep_data(acc_df)\n",
    "\n",
    "    # Filter the rows where the HR column is not 0\n",
    "    sleep_df = sleep_df[sleep_df['HR'] != 0]\n",
    "    if len(sleep_df) > 0:\n",
    "        # Calculate the average and add to column\n",
    "        resting_hr = sleep_df['HR'].mean()\n",
    "        print(f\"Resting HR during sleep:{resting_hr}\")\n",
    "        df.at[index, 'Resting HR'] = resting_hr\n",
    "    else:\n",
    "        print('No resting HR found')\n",
    "        #calculate the resting HR from the average period when all rows have a 1 in the sedentary column\n",
    "        resting_hr = acc_df[acc_df['sedentary'] == 1]['HR'].mean()\n",
    "        #print(f\"Resting HR from sedentary period:{resting_hr}\")\n",
    "        df.at[index, 'Resting HR'] = resting_hr\n",
    "\n",
    "    \n",
    "    #get the maximum value of the HR column\n",
    "    max_hr = acc_df['HR'].max()\n",
    "    df.at[index, 'Max HR'] = max_hr\n",
    "\n",
    "    #get the minimum value of the HR column that is not 0\n",
    "    min_hr = acc_df[acc_df['HR'] != 0]['HR'].min()\n",
    "    df.at[index, 'Min HR'] = min_hr\n",
    "\n",
    "    #get the time in minutes spent in MVPA, LPA, VPA and SB (each row is 30s) along with the average HR for each\n",
    "    time_in_mvpa = (acc_df[acc_df['moderate-vigorous'] == 1].shape[0] / 2) / days\n",
    "    print(f'Time in MVPA: {time_in_mvpa}')\n",
    "    df.at[index, 'Time in MVPA'] = time_in_mvpa\n",
    "    mvpa_hr = acc_df[(acc_df['moderate-vigorous'] == 1) & (acc_df['HR'] != 0)]['HR'].mean()\n",
    "    df.at[index, 'MVPA HR'] = mvpa_hr\n",
    "\n",
    "    time_in_lpa = (acc_df[acc_df['light'] == 1].shape[0] / 2) / days\n",
    "    df.at[index, 'Time in LPA'] = time_in_lpa\n",
    "    lpa_hr = acc_df[(acc_df['light'] == 1) & (acc_df['HR'] != 0)]['HR'].mean()\n",
    "    df.at[index, 'LPA HR'] = lpa_hr\n",
    "\n",
    "    time_in_sb = (acc_df[acc_df['sedentary'] == 1].shape[0] / 2) / days\n",
    "    df.at[index, 'Time in SB'] = time_in_sb\n",
    "    sb_hr = acc_df[(acc_df['sedentary'] == 1) & (acc_df['HR'] != 0)]['HR'].mean()\n",
    "    df.at[index, 'SB HR'] = sb_hr\n"
   ]
  },
  {
   "cell_type": "code",
   "execution_count": 13,
   "metadata": {},
   "outputs": [
    {
     "data": {
      "text/html": [
       "<div>\n",
       "<style scoped>\n",
       "    .dataframe tbody tr th:only-of-type {\n",
       "        vertical-align: middle;\n",
       "    }\n",
       "\n",
       "    .dataframe tbody tr th {\n",
       "        vertical-align: top;\n",
       "    }\n",
       "\n",
       "    .dataframe thead th {\n",
       "        text-align: right;\n",
       "    }\n",
       "</style>\n",
       "<table border=\"1\" class=\"dataframe\">\n",
       "  <thead>\n",
       "    <tr style=\"text-align: right;\">\n",
       "      <th></th>\n",
       "      <th>Patient ID</th>\n",
       "      <th>Biosensor ID</th>\n",
       "      <th>file_name</th>\n",
       "      <th>Start</th>\n",
       "      <th>Wear time</th>\n",
       "      <th>missing ACC (% of total signal)</th>\n",
       "      <th>missing ECG overall (% of total signal)</th>\n",
       "      <th>Missing ECG from electrode (% of total signal)</th>\n",
       "      <th>ecg_qual</th>\n",
       "      <th>wear_hrs</th>\n",
       "      <th>...</th>\n",
       "      <th>Q95</th>\n",
       "      <th>Resting HR</th>\n",
       "      <th>Max HR</th>\n",
       "      <th>Min HR</th>\n",
       "      <th>Time in MVPA</th>\n",
       "      <th>Time in LPA</th>\n",
       "      <th>Time in SB</th>\n",
       "      <th>MVPA HR</th>\n",
       "      <th>LPA HR</th>\n",
       "      <th>SB HR</th>\n",
       "    </tr>\n",
       "  </thead>\n",
       "  <tbody>\n",
       "    <tr>\n",
       "      <th>0</th>\n",
       "      <td>R001</td>\n",
       "      <td>AVNDI</td>\n",
       "      <td>01_10</td>\n",
       "      <td>2022-12-21 14:00:00</td>\n",
       "      <td>74.240000</td>\n",
       "      <td>1.304268</td>\n",
       "      <td>9.743286</td>\n",
       "      <td>8.439017</td>\n",
       "      <td>75.514480</td>\n",
       "      <td>74.240000</td>\n",
       "      <td>...</td>\n",
       "      <td>1.048475</td>\n",
       "      <td>64.725519</td>\n",
       "      <td>159.0</td>\n",
       "      <td>57.0</td>\n",
       "      <td>76.973772</td>\n",
       "      <td>193.908396</td>\n",
       "      <td>665.413695</td>\n",
       "      <td>93.297357</td>\n",
       "      <td>87.536122</td>\n",
       "      <td>78.532001</td>\n",
       "    </tr>\n",
       "    <tr>\n",
       "      <th>1</th>\n",
       "      <td>R002</td>\n",
       "      <td>AVNDM</td>\n",
       "      <td>01_10</td>\n",
       "      <td>2023-01-03 12:15:00</td>\n",
       "      <td>67.982222</td>\n",
       "      <td>16.915419</td>\n",
       "      <td>17.204830</td>\n",
       "      <td>0.289411</td>\n",
       "      <td>74.175622</td>\n",
       "      <td>67.982222</td>\n",
       "      <td>...</td>\n",
       "      <td>0.633188</td>\n",
       "      <td>72.112786</td>\n",
       "      <td>146.0</td>\n",
       "      <td>54.0</td>\n",
       "      <td>5.523811</td>\n",
       "      <td>35.054954</td>\n",
       "      <td>1028.916009</td>\n",
       "      <td>110.694444</td>\n",
       "      <td>101.817797</td>\n",
       "      <td>86.742545</td>\n",
       "    </tr>\n",
       "    <tr>\n",
       "      <th>2</th>\n",
       "      <td>R003</td>\n",
       "      <td>AVNDG</td>\n",
       "      <td>01_10</td>\n",
       "      <td>2023-01-09 10:32:00</td>\n",
       "      <td>94.720000</td>\n",
       "      <td>13.105187</td>\n",
       "      <td>13.116111</td>\n",
       "      <td>0.010923</td>\n",
       "      <td>85.782574</td>\n",
       "      <td>94.720000</td>\n",
       "      <td>...</td>\n",
       "      <td>0.492181</td>\n",
       "      <td>101.823921</td>\n",
       "      <td>163.0</td>\n",
       "      <td>72.0</td>\n",
       "      <td>21.577813</td>\n",
       "      <td>50.153835</td>\n",
       "      <td>1004.680458</td>\n",
       "      <td>115.473684</td>\n",
       "      <td>116.899068</td>\n",
       "      <td>105.081097</td>\n",
       "    </tr>\n",
       "    <tr>\n",
       "      <th>3</th>\n",
       "      <td>R004</td>\n",
       "      <td>BBJMP</td>\n",
       "      <td>01_10</td>\n",
       "      <td>2023-01-17 12:50:00</td>\n",
       "      <td>79.928889</td>\n",
       "      <td>36.260662</td>\n",
       "      <td>36.298541</td>\n",
       "      <td>0.037879</td>\n",
       "      <td>60.794467</td>\n",
       "      <td>79.928889</td>\n",
       "      <td>...</td>\n",
       "      <td>0.942646</td>\n",
       "      <td>76.542085</td>\n",
       "      <td>157.0</td>\n",
       "      <td>67.0</td>\n",
       "      <td>95.630397</td>\n",
       "      <td>95.865939</td>\n",
       "      <td>1197.970929</td>\n",
       "      <td>122.030343</td>\n",
       "      <td>104.098462</td>\n",
       "      <td>93.150528</td>\n",
       "    </tr>\n",
       "    <tr>\n",
       "      <th>4</th>\n",
       "      <td>R005</td>\n",
       "      <td>BGFJQ</td>\n",
       "      <td>01_10</td>\n",
       "      <td>2023-01-23 16:04:00</td>\n",
       "      <td>47.786667</td>\n",
       "      <td>13.789481</td>\n",
       "      <td>14.579876</td>\n",
       "      <td>0.790395</td>\n",
       "      <td>54.630006</td>\n",
       "      <td>47.786667</td>\n",
       "      <td>...</td>\n",
       "      <td>0.482796</td>\n",
       "      <td>73.649351</td>\n",
       "      <td>149.5</td>\n",
       "      <td>62.0</td>\n",
       "      <td>15.729250</td>\n",
       "      <td>102.822688</td>\n",
       "      <td>889.285177</td>\n",
       "      <td>76.000000</td>\n",
       "      <td>87.709030</td>\n",
       "      <td>82.015659</td>\n",
       "    </tr>\n",
       "  </tbody>\n",
       "</table>\n",
       "<p>5 rows × 27 columns</p>\n",
       "</div>"
      ],
      "text/plain": [
       "  Patient ID Biosensor ID file_name                Start  Wear time  \\\n",
       "0       R001        AVNDI     01_10  2022-12-21 14:00:00  74.240000   \n",
       "1       R002        AVNDM     01_10  2023-01-03 12:15:00  67.982222   \n",
       "2       R003        AVNDG     01_10  2023-01-09 10:32:00  94.720000   \n",
       "3       R004        BBJMP     01_10  2023-01-17 12:50:00  79.928889   \n",
       "4       R005        BGFJQ     01_10  2023-01-23 16:04:00  47.786667   \n",
       "\n",
       "   missing ACC (% of total signal)  missing ECG overall (% of total signal)  \\\n",
       "0                         1.304268                                 9.743286   \n",
       "1                        16.915419                                17.204830   \n",
       "2                        13.105187                                13.116111   \n",
       "3                        36.260662                                36.298541   \n",
       "4                        13.789481                                14.579876   \n",
       "\n",
       "   Missing ECG from electrode (% of total signal)   ecg_qual   wear_hrs  ...  \\\n",
       "0                                        8.439017  75.514480  74.240000  ...   \n",
       "1                                        0.289411  74.175622  67.982222  ...   \n",
       "2                                        0.010923  85.782574  94.720000  ...   \n",
       "3                                        0.037879  60.794467  79.928889  ...   \n",
       "4                                        0.790395  54.630006  47.786667  ...   \n",
       "\n",
       "        Q95  Resting HR  Max HR  Min HR  Time in MVPA  Time in LPA  \\\n",
       "0  1.048475   64.725519   159.0    57.0     76.973772   193.908396   \n",
       "1  0.633188   72.112786   146.0    54.0      5.523811    35.054954   \n",
       "2  0.492181  101.823921   163.0    72.0     21.577813    50.153835   \n",
       "3  0.942646   76.542085   157.0    67.0     95.630397    95.865939   \n",
       "4  0.482796   73.649351   149.5    62.0     15.729250   102.822688   \n",
       "\n",
       "    Time in SB     MVPA HR      LPA HR       SB HR  \n",
       "0   665.413695   93.297357   87.536122   78.532001  \n",
       "1  1028.916009  110.694444  101.817797   86.742545  \n",
       "2  1004.680458  115.473684  116.899068  105.081097  \n",
       "3  1197.970929  122.030343  104.098462   93.150528  \n",
       "4   889.285177   76.000000   87.709030   82.015659  \n",
       "\n",
       "[5 rows x 27 columns]"
      ]
     },
     "execution_count": 13,
     "metadata": {},
     "output_type": "execute_result"
    }
   ],
   "source": [
    "df.head()"
   ]
  },
  {
   "cell_type": "code",
   "execution_count": 19,
   "metadata": {},
   "outputs": [],
   "source": [
    "# save the dataframe to a csv file\n",
    "\n",
    "df.to_csv(f'{path}/sensors_data.csv', index=False)"
   ]
  }
 ],
 "metadata": {
  "kernelspec": {
   "display_name": "hr-env",
   "language": "python",
   "name": "python3"
  },
  "language_info": {
   "codemirror_mode": {
    "name": "ipython",
    "version": 3
   },
   "file_extension": ".py",
   "mimetype": "text/x-python",
   "name": "python",
   "nbconvert_exporter": "python",
   "pygments_lexer": "ipython3",
   "version": "3.12.6"
  }
 },
 "nbformat": 4,
 "nbformat_minor": 2
}
